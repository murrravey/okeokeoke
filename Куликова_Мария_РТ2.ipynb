{
  "nbformat": 4,
  "nbformat_minor": 0,
  "metadata": {
    "colab": {
      "provenance": [],
      "authorship_tag": "ABX9TyN+CsHscjeykuktrG5eLQKG",
      "include_colab_link": true
    },
    "kernelspec": {
      "name": "python3",
      "display_name": "Python 3"
    },
    "language_info": {
      "name": "python"
    }
  },
  "cells": [
    {
      "cell_type": "markdown",
      "metadata": {
        "id": "view-in-github",
        "colab_type": "text"
      },
      "source": [
        "<a href=\"https://colab.research.google.com/github/murrravey/okeokeoke/blob/main/%D0%9A%D1%83%D0%BB%D0%B8%D0%BA%D0%BE%D0%B2%D0%B0_%D0%9C%D0%B0%D1%80%D0%B8%D1%8F_%D0%A0%D0%A22.ipynb\" target=\"_parent\"><img src=\"https://colab.research.google.com/assets/colab-badge.svg\" alt=\"Open In Colab\"/></a>"
      ]
    },
    {
      "cell_type": "markdown",
      "source": [
        "##Рабочая тетрадь 2"
      ],
      "metadata": {
        "id": "R9Fi8rxx3Dkm"
      }
    },
    {
      "cell_type": "markdown",
      "source": [
        "Цель машинного обучения – анализ данных.\n",
        "Данные – зарегистрированная информация; представление фактов,\n",
        "понятий или инструкций в форме, приемлемой для общения,\n",
        "интерпретации, или обработки человеком или с помощью автоматических\n",
        "средств (ISO/IEC/IEEE 24765-2010).\n",
        "Данные в машинном обучении – это представление информации об\n",
        "исследуемой задаче в виде множеств исследуемых объектов и множеств их\n",
        "характеристик, на основе которых строятся модели, разрабатываются\n",
        "подходы, методы и алгоритмы анализа для принятия решений.\n",
        "\n",
        "Качество данных – важный аспект машинного обучения. Для Аналитика (Data Scientist, Data Analyst, Data Mining Engineer) очень важно обладать правильными данными, что гарантирует эффективность обработки и построении прогнозов. Основные требования к данным:\n",
        "\n",
        "* Доступность\n",
        "* Точность\n",
        "*Полнота\n",
        "*Непротиворечивость\n",
        "*Однозначность (каждое поле, содержащее индивидуальные данные, имеет\n",
        "определенное, недвусмысленное значение)\n",
        "*Релевантность (степень соответствия результатов поиска результатам запроса)\n",
        "*Надежность (одновременно точные и полные данные)\n",
        "*Своевременность\n",
        "*Взаимосвязанность\n",
        "\n",
        "Остановимся на основных этапах решения задач машинного обучения. Этапы решения задач машинного обучения:\n",
        "\n",
        "1.   Постановка задачи.\n",
        "2.Сбор и подготовка данных.\n",
        "3.Предобработка данных и выделение ключевых признаков.\n",
        "4.Выбор алгоритмов машинного обучения.\n",
        "5.Обучение модели (моделей).\n",
        "6.Оценка качества.\n",
        "7.Эксплуатация модели.\n",
        "\n",
        "При подготовке данных можно применять следующие операции:\n",
        "\n",
        "- структурирование – приведение данных к табличному (матричному) виду;\n",
        "- заполнение пропусков;\n",
        "- отбор – исключение записей с отсутствующими или некорректными значениями, если нет возможности заполнения и устранения противоречивости;\n",
        "- нормализация – приведение числовых значений к определенному диапазону, например к диапазону 0...1;\n",
        "- кодирование – это представление категориальных данных в числовой форме.\n",
        "\n"
      ],
      "metadata": {
        "id": "x_QwGEFk4gC8"
      }
    },
    {
      "cell_type": "markdown",
      "source": [
        "##1.1. Теоретический материал – Библиотека NumPy\n",
        "\n",
        "**NumPy (NumericalPython)** - это библиотека Python с открытым исходным кодом, которая используется практически во всех областях науки и техники. Это универсальный стандарт для работы с числовыми данными в Python.\n",
        "\n",
        "Если у вас уже есть Python, вы можете установить NumPy с помощью командной строки: `pip install numpy`\n",
        "\n",
        "Чтобы начать использовать NumPy необходимо импортировать соответствующую библиотеку: `import numpy as np`\n",
        "\n",
        "Основным объектом NumPy является однородный многомерный массив (в numpy называется numpy.ndarray). Это многомерный массив элементов (обычно чисел), одного типа.\n",
        "\n",
        "**Наиболее важные атрибуты объектов ndarray:**\n",
        "\n",
        "`ndarray.ndim` - число измерений (чаще их называют \"оси\") массива. ndarray.shape - размеры массива, его форма. Это кортеж натуральных чисел, показывающий длину массива по каждой оси. Для матрицы из n строк и m столбов, shape будет (n,m). Число элементов кортежа shape равно ndim.\n",
        "\n",
        "`ndarray.size` - количество элементов массива. Очевидно, равно произведению всех элементов атрибута shape.\n",
        "\n",
        "`ndarray.dtype` - объект, описывающий тип элементов массива. Можно определить dtype, используя стандартные типы данных Python. NumPy здесь предоставляет целый букет возможностей, как встроенных, например: bool_, character, int8, int16, int32, int64, float8, float16, float32, float64, complex64, object_, так и возможность определить собственные типы данных, в том числе и составные.\n",
        "\n",
        "`ndarray.itemsize` - размер каждого элемента массива в байтах.\n",
        "\n",
        "`ndarray.data` - буфер, содержащий фактические элементы массива.\n",
        "\n",
        "Обычно не нужно использовать этот атрибут, так как обращаться к элементам массива проще всего с помощью индексов.\n",
        "\n",
        "Подробнее о массивах в NumPy можно найти в официальной документации https://numpy.org/doc/stable/user/absolute_beginners.html"
      ],
      "metadata": {
        "id": "69XJjsBe7R67"
      }
    },
    {
      "cell_type": "markdown",
      "source": [
        "##1.2.1 Пример\n",
        "Создать массив 5x2. Создать массив 5x2. Вывести все значения массива,\n",
        "значение элемента с индексом (3,1) и второй столбец. Индексация\n",
        "начинается с нуля"
      ],
      "metadata": {
        "id": "ma4xpwcx_dDx"
      }
    },
    {
      "cell_type": "code",
      "source": [
        "import numpy as np\n",
        "x = np.array([[1,2],[3,4],[5,6],[7,8],[9,10]])\n",
        "print(x)\n",
        "print(x[3][1])\n",
        "print(x[1])"
      ],
      "metadata": {
        "colab": {
          "base_uri": "https://localhost:8080/"
        },
        "id": "cVdgrUk-_Ozn",
        "outputId": "afb99a14-62c2-4560-fa1f-21ef7cf7e690"
      },
      "execution_count": 1,
      "outputs": [
        {
          "output_type": "stream",
          "name": "stdout",
          "text": [
            "[[ 1  2]\n",
            " [ 3  4]\n",
            " [ 5  6]\n",
            " [ 7  8]\n",
            " [ 9 10]]\n",
            "8\n",
            "[3 4]\n"
          ]
        }
      ]
    },
    {
      "cell_type": "markdown",
      "source": [
        "##1.2.2 Пример\n",
        "Выполнить следующее:\n",
        "1. Создать вектор (одномерный массив) размера 10, заполненный\n",
        "нулями.\n",
        "2. Создать вектор размера 10, заполненный единицами.\n",
        "3. Создать вектор размера 10, заполненный заданным числом.\n",
        "4. Создать вектор со значениями от 10 до 19.\n"
      ],
      "metadata": {
        "id": "RyJ3My0KAFuG"
      }
    },
    {
      "cell_type": "code",
      "source": [
        "a = np.zeros(10)\n",
        "b = np.ones(10)\n",
        "c = np.full(10,5)\n",
        "d = np.arange(10, 20)\n",
        "print(a, \"\\n\", b, \"\\n\", c, \"\\n\", d)"
      ],
      "metadata": {
        "colab": {
          "base_uri": "https://localhost:8080/"
        },
        "id": "tguPbhjIAN5s",
        "outputId": "cd1ad666-bc09-4671-8e11-b32974fcb6ba"
      },
      "execution_count": 3,
      "outputs": [
        {
          "output_type": "stream",
          "name": "stdout",
          "text": [
            "[0. 0. 0. 0. 0. 0. 0. 0. 0. 0.] \n",
            " [1. 1. 1. 1. 1. 1. 1. 1. 1. 1.] \n",
            " [5 5 5 5 5 5 5 5 5 5] \n",
            " [10 11 12 13 14 15 16 17 18 19]\n"
          ]
        }
      ]
    },
    {
      "cell_type": "markdown",
      "source": [
        "##1.2.3 Пример\n",
        "Создать массив 10x10 со случайными значениями, найти минимум,\n",
        "максимум и среднее значение."
      ],
      "metadata": {
        "id": "TWInzuzPE4cq"
      }
    },
    {
      "cell_type": "code",
      "source": [
        "Z = np.random.random((10,10))\n",
        "Zmin, Zmax, Zmean = Z.min(), Z.max(), Z.mean()\n",
        "print(Zmin, Zmax, Zmean)"
      ],
      "metadata": {
        "colab": {
          "base_uri": "https://localhost:8080/"
        },
        "id": "x40F0MLoE9Sr",
        "outputId": "2d977ee7-535c-425d-8749-7eda7fe1a292"
      },
      "execution_count": 4,
      "outputs": [
        {
          "output_type": "stream",
          "name": "stdout",
          "text": [
            "0.001496312397124111 0.999548585963315 0.44643739139580474\n"
          ]
        }
      ]
    },
    {
      "cell_type": "markdown",
      "source": [
        "##1.2.4 Пример\n",
        "Задать матрицу размерности 5 на 5 и поменять 2 строки в матрице\n",
        "местами.\n"
      ],
      "metadata": {
        "id": "JcV8nU4hFbI6"
      }
    },
    {
      "cell_type": "code",
      "source": [
        "A = np.arange(25).reshape(5,5)\n",
        "A[[0,1]] = A[[1,0]]\n",
        "print(A)"
      ],
      "metadata": {
        "colab": {
          "base_uri": "https://localhost:8080/"
        },
        "id": "4a-tlfkDFgeD",
        "outputId": "4ff076b5-a962-4f43-d9fd-f03c8b4fcfe9"
      },
      "execution_count": 5,
      "outputs": [
        {
          "output_type": "stream",
          "name": "stdout",
          "text": [
            "[[ 5  6  7  8  9]\n",
            " [ 0  1  2  3  4]\n",
            " [10 11 12 13 14]\n",
            " [15 16 17 18 19]\n",
            " [20 21 22 23 24]]\n"
          ]
        }
      ]
    },
    {
      "cell_type": "markdown",
      "source": [
        "##1.2.5 Пример\n",
        "Выяснить результат следующих выражений:\n",
        "- 0 * np.nan\n",
        "- np.nan == np.nan\n",
        "- np.inf > np.nan\n",
        "- np.nan - np.nan\n",
        "- 0.3 == 3 * 0.1"
      ],
      "metadata": {
        "id": "CDM2LR0CF1t8"
      }
    },
    {
      "cell_type": "code",
      "source": [
        "print(0 * np.nan)\n",
        "print(np.nan == np.nan)\n",
        "print(np.inf > np.nan)\n",
        "print(np.nan - np.nan)\n",
        "print(0.3 == 3 * 0.1)"
      ],
      "metadata": {
        "colab": {
          "base_uri": "https://localhost:8080/"
        },
        "id": "TbHgWbXnGLbU",
        "outputId": "b87c527b-225d-4bd6-a901-d6e894f85563"
      },
      "execution_count": 6,
      "outputs": [
        {
          "output_type": "stream",
          "name": "stdout",
          "text": [
            "nan\n",
            "False\n",
            "False\n",
            "nan\n",
            "False\n"
          ]
        }
      ]
    },
    {
      "cell_type": "markdown",
      "source": [
        "##1.2.6 Пример\n",
        "Отсортировать массив."
      ],
      "metadata": {
        "id": "eEdSWtLAGO7X"
      }
    },
    {
      "cell_type": "code",
      "source": [
        "arr = np.array([2, 1, 5, 3, 7, 4, 6, 8])\n",
        "print(np.sort(arr))"
      ],
      "metadata": {
        "colab": {
          "base_uri": "https://localhost:8080/"
        },
        "id": "QYbjYsbKGVSN",
        "outputId": "ac96b144-7995-4144-a1e7-169a2c4e8d02"
      },
      "execution_count": 7,
      "outputs": [
        {
          "output_type": "stream",
          "name": "stdout",
          "text": [
            "[1 2 3 4 5 6 7 8]\n"
          ]
        }
      ]
    },
    {
      "cell_type": "markdown",
      "source": [
        "##1.3.1 Задание\n",
        "Создать 8x8 матрицу и заполнить её в шахматном порядке нулями и\n",
        "единицами."
      ],
      "metadata": {
        "id": "xoG3VY_EGZUU"
      }
    },
    {
      "cell_type": "code",
      "source": [
        "x = np.zeros((8,8), dtype=int)\n",
        "x[::2,1::2] = 1\n",
        "x[1::2,::2] = 1\n",
        "print(x)"
      ],
      "metadata": {
        "colab": {
          "base_uri": "https://localhost:8080/"
        },
        "id": "r5pgQJ8AGh1i",
        "outputId": "36e00f47-abce-4060-b0b8-fd82ebc2d9a3"
      },
      "execution_count": 8,
      "outputs": [
        {
          "output_type": "stream",
          "name": "stdout",
          "text": [
            "[[0 1 0 1 0 1 0 1]\n",
            " [1 0 1 0 1 0 1 0]\n",
            " [0 1 0 1 0 1 0 1]\n",
            " [1 0 1 0 1 0 1 0]\n",
            " [0 1 0 1 0 1 0 1]\n",
            " [1 0 1 0 1 0 1 0]\n",
            " [0 1 0 1 0 1 0 1]\n",
            " [1 0 1 0 1 0 1 0]]\n"
          ]
        }
      ]
    },
    {
      "cell_type": "markdown",
      "source": [
        "##1.3.2 Задание\n",
        "Создать 5x5 матрицу со значениями в строках от 0 до 4. Для создания\n",
        "необходимо использовать функцию arrange."
      ],
      "metadata": {
        "id": "o-jGTmXuG4OQ"
      }
    },
    {
      "cell_type": "code",
      "source": [
        "x = np.zeros((5,5), dtype=int)\n",
        "x += np.arange(5) \n",
        "print(x)"
      ],
      "metadata": {
        "colab": {
          "base_uri": "https://localhost:8080/"
        },
        "id": "kh5wgz6-G-al",
        "outputId": "f9e8a8fb-84ad-465f-e5c4-d960e3391430"
      },
      "execution_count": 9,
      "outputs": [
        {
          "output_type": "stream",
          "name": "stdout",
          "text": [
            "[[0 1 2 3 4]\n",
            " [0 1 2 3 4]\n",
            " [0 1 2 3 4]\n",
            " [0 1 2 3 4]\n",
            " [0 1 2 3 4]]\n"
          ]
        }
      ]
    },
    {
      "cell_type": "markdown",
      "source": [
        "##1.3.3 Задание\n",
        "Создать массив 3x3x3 со случайными значениями.\n"
      ],
      "metadata": {
        "id": "IcCE2b0THGSO"
      }
    },
    {
      "cell_type": "code",
      "source": [
        "x = np.random.random((3,3,3))\n",
        "print(x)"
      ],
      "metadata": {
        "colab": {
          "base_uri": "https://localhost:8080/"
        },
        "id": "T-rWTuGjHKdx",
        "outputId": "23d355e1-1527-4dd0-a118-3eb22393e864"
      },
      "execution_count": 10,
      "outputs": [
        {
          "output_type": "stream",
          "name": "stdout",
          "text": [
            "[[[0.24110529 0.07783337 0.23506491]\n",
            "  [0.71707724 0.58136312 0.15560687]\n",
            "  [0.16269452 0.50339878 0.36107573]]\n",
            "\n",
            " [[0.41170595 0.86781875 0.25505356]\n",
            "  [0.54410192 0.2931952  0.33188271]\n",
            "  [0.82333282 0.6634809  0.82534678]]\n",
            "\n",
            " [[0.41383301 0.30697202 0.20392409]\n",
            "  [0.53683004 0.20414333 0.6425069 ]\n",
            "  [0.97961689 0.01174324 0.16919691]]]\n"
          ]
        }
      ]
    },
    {
      "cell_type": "markdown",
      "source": [
        "##1.3.4 Задание\n",
        "Создать матрицу с 0 внутри, и 1 на границах."
      ],
      "metadata": {
        "id": "ZCuJnUTsHqon"
      }
    },
    {
      "cell_type": "code",
      "source": [
        "x = np.ones((10, 10), dtype=int)\n",
        "x[1:-1, 1:-1] = 0 \n",
        "print(x)"
      ],
      "metadata": {
        "colab": {
          "base_uri": "https://localhost:8080/"
        },
        "id": "IH2vWA4OHxKF",
        "outputId": "39f0471d-02eb-40b3-f015-3cbe0cecb1eb"
      },
      "execution_count": 11,
      "outputs": [
        {
          "output_type": "stream",
          "name": "stdout",
          "text": [
            "[[1 1 1 1 1 1 1 1 1 1]\n",
            " [1 0 0 0 0 0 0 0 0 1]\n",
            " [1 0 0 0 0 0 0 0 0 1]\n",
            " [1 0 0 0 0 0 0 0 0 1]\n",
            " [1 0 0 0 0 0 0 0 0 1]\n",
            " [1 0 0 0 0 0 0 0 0 1]\n",
            " [1 0 0 0 0 0 0 0 0 1]\n",
            " [1 0 0 0 0 0 0 0 0 1]\n",
            " [1 0 0 0 0 0 0 0 0 1]\n",
            " [1 1 1 1 1 1 1 1 1 1]]\n"
          ]
        }
      ]
    },
    {
      "cell_type": "markdown",
      "source": [
        "##1.3.5 Задание\n",
        "Создайте массив и отсортируйте его по убыванию"
      ],
      "metadata": {
        "id": "rlyhKsg7H9xF"
      }
    },
    {
      "cell_type": "code",
      "source": [
        "x = np.arange(1, 16)\n",
        "print(np.sort(x)[::-1])"
      ],
      "metadata": {
        "colab": {
          "base_uri": "https://localhost:8080/"
        },
        "id": "X5uDwtY2ICqk",
        "outputId": "94689fdd-9cd2-4144-aa04-12032cb898f6"
      },
      "execution_count": 14,
      "outputs": [
        {
          "output_type": "stream",
          "name": "stdout",
          "text": [
            "[15 14 13 12 11 10  9  8  7  6  5  4  3  2  1]\n"
          ]
        }
      ]
    },
    {
      "cell_type": "markdown",
      "source": [
        "##1.3.6 Задание\n",
        "Создайте матрицу, выведите ее форму, размер и размерность."
      ],
      "metadata": {
        "id": "WnkB7PlPIO59"
      }
    },
    {
      "cell_type": "code",
      "source": [
        "x = np.array([[3, 4, 5, 6],[2, 1, 3, 2]], int)\n",
        "forma = \"\"\n",
        "if x.shape[0] == x.shape[1]:\n",
        "  forma = \"квадратная\"\n",
        "elif x.shape[0] == 1:\n",
        "  forma = \"вектор-строка\"\n",
        "elif x.shape[1] == 1:\n",
        "  forma = \"вектор-столбец\"\n",
        "else:\n",
        "  forma = \"прямоугольная\"\n",
        "print(\"Форма = \", forma, \"\\nРазмер = \", x.size, \"\\nРазмерность = \", x.shape)"
      ],
      "metadata": {
        "colab": {
          "base_uri": "https://localhost:8080/"
        },
        "id": "FQ4ZcxnlIUxz",
        "outputId": "ec68cfc7-13a0-429b-aace-135e3192161c"
      },
      "execution_count": 17,
      "outputs": [
        {
          "output_type": "stream",
          "name": "stdout",
          "text": [
            "Форма =  прямоугольная \n",
            "Размер =  8 \n",
            "Размерность =  (2, 4)\n"
          ]
        }
      ]
    },
    {
      "cell_type": "markdown",
      "source": [
        "##2.1. Теоретический материал – Библиотека Pandas\n",
        "Первым шагом в любом начинании в области машинного обучения является введение исходных данных в систему. Исходные данные могут вводиться вручную, содержаться в файле или храниться в интернете в каком-либо формате. Кроме того, часто требуется получить данные из нескольких источников.\n",
        "\n",
        "*Библиотека pandas* – это удобный и быстрый инструмент для работы с данными, обладающий большим функционалом. Если очень кратко, то pandas – это библиотека, которая предоставляет очень удобные с точки зрения использования инструменты для хранения данных и работе с ними.\n",
        "\n",
        "*Библиотека pandas* присутствует в стандартной поставке Anaconda. Если же ее там нет, то его можно установить отдельно. Для этого введите командной строке: `pip install pandas`. Для импорта библиотеки используйте команду:` import pandas as pd.`\n",
        "\n",
        "Библиотека pandas предоставляет две ключевые структуры данных: Series и DataFrame.\n",
        "\n",
        "**Series** – это одномерная структура данных, ее можно представить, как таблицу с одной строкой. С Series можно работать как с обычным массивом (обращаться по номеру индекса), и как с ассоциированным массивом, когда можно использовать ключ для доступа к элементам данных.\n",
        "\n",
        "**DataFrame** – это двумерная структура. Идейно она очень похожа на обычную таблицу, что выражается в способе ее создания и работе с ее элементами."
      ],
      "metadata": {
        "id": "T6E0UdldI21X"
      }
    },
    {
      "cell_type": "markdown",
      "source": [
        "##2.2.1 Пример\n",
        "Создать Series из списка Python, словаря Python, и массива Numpy\n",
        "(установить буквенные метки для последнего). "
      ],
      "metadata": {
        "id": "2-8M-QDUJlS8"
      }
    },
    {
      "cell_type": "code",
      "source": [
        "import numpy as np\n",
        "import pandas as pd\n",
        "\n",
        "lst = [1, 2, 3, 4, 5]\n",
        "d = {'a':1, 'b':2, 'c':3}\n",
        "ndarr = np.array([1, 2, 3, 4, 5])\n",
        "\n",
        "s1 = pd.Series(lst)\n",
        "s2 = pd.Series(d)\n",
        "s3 = pd.Series(ndarr, ['a', 'b', 'c', 'd', 'e'])\n",
        "\n",
        "print(s1)\n",
        "print(s2)\n",
        "print(s3)"
      ],
      "metadata": {
        "colab": {
          "base_uri": "https://localhost:8080/"
        },
        "id": "yf5ZHpOKJp3X",
        "outputId": "46e8c289-1af4-4b1e-b7f7-a40899be54fd"
      },
      "execution_count": 18,
      "outputs": [
        {
          "output_type": "stream",
          "name": "stdout",
          "text": [
            "0    1\n",
            "1    2\n",
            "2    3\n",
            "3    4\n",
            "4    5\n",
            "dtype: int64\n",
            "a    1\n",
            "b    2\n",
            "c    3\n",
            "dtype: int64\n",
            "a    1\n",
            "b    2\n",
            "c    3\n",
            "d    4\n",
            "e    5\n",
            "dtype: int64\n"
          ]
        }
      ]
    },
    {
      "cell_type": "markdown",
      "source": [
        "##2.2.2 Пример\n",
        "Дано два Series. Напечатать их первые элементы и все элементы после\n",
        "третьего (во втором фрейме)."
      ],
      "metadata": {
        "id": "qpImd4Q-JxRX"
      }
    },
    {
      "cell_type": "code",
      "source": [
        "s1 = pd.Series([1,2,3,4,5], ['a', 'b', 'c', 'd', 'e'])\n",
        "s2 = pd.Series([5, 4, 3, 2, 1])\n",
        "print(s1['a'])\n",
        "print(s2[0])\n",
        "print(s2[3:])"
      ],
      "metadata": {
        "colab": {
          "base_uri": "https://localhost:8080/"
        },
        "id": "dXZZEXcmJ2fv",
        "outputId": "9e942fa0-9b0c-4118-c3ca-d060a9587bb1"
      },
      "execution_count": 19,
      "outputs": [
        {
          "output_type": "stream",
          "name": "stdout",
          "text": [
            "1\n",
            "5\n",
            "3    2\n",
            "4    1\n",
            "dtype: int64\n"
          ]
        }
      ]
    },
    {
      "cell_type": "markdown",
      "source": [
        "##2.2.3 Пример\n",
        "Создайте новый фрейм данных"
      ],
      "metadata": {
        "id": "tFuW1nF5J6yl"
      }
    },
    {
      "cell_type": "code",
      "source": [
        "dataframe = pd.DataFrame()\n",
        "dataframe['Имя'] = ['Джеки Джексон', 'Стивен Стивенсон']\n",
        "dataframe['Возраст'] = [38, 25]\n",
        "dataframe['Водитель'] = [True, False]\n",
        "dataframe "
      ],
      "metadata": {
        "colab": {
          "base_uri": "https://localhost:8080/",
          "height": 112
        },
        "id": "8taqQuFfKAUX",
        "outputId": "20d79dc2-4db5-4e0f-de73-ae89ac7da434"
      },
      "execution_count": 20,
      "outputs": [
        {
          "output_type": "execute_result",
          "data": {
            "text/plain": [
              "                Имя  Возраст  Водитель\n",
              "0     Джеки Джексон       38      True\n",
              "1  Стивен Стивенсон       25     False"
            ],
            "text/html": [
              "\n",
              "  <div id=\"df-7f0afce4-f1b4-4538-911a-37659a2adf84\">\n",
              "    <div class=\"colab-df-container\">\n",
              "      <div>\n",
              "<style scoped>\n",
              "    .dataframe tbody tr th:only-of-type {\n",
              "        vertical-align: middle;\n",
              "    }\n",
              "\n",
              "    .dataframe tbody tr th {\n",
              "        vertical-align: top;\n",
              "    }\n",
              "\n",
              "    .dataframe thead th {\n",
              "        text-align: right;\n",
              "    }\n",
              "</style>\n",
              "<table border=\"1\" class=\"dataframe\">\n",
              "  <thead>\n",
              "    <tr style=\"text-align: right;\">\n",
              "      <th></th>\n",
              "      <th>Имя</th>\n",
              "      <th>Возраст</th>\n",
              "      <th>Водитель</th>\n",
              "    </tr>\n",
              "  </thead>\n",
              "  <tbody>\n",
              "    <tr>\n",
              "      <th>0</th>\n",
              "      <td>Джеки Джексон</td>\n",
              "      <td>38</td>\n",
              "      <td>True</td>\n",
              "    </tr>\n",
              "    <tr>\n",
              "      <th>1</th>\n",
              "      <td>Стивен Стивенсон</td>\n",
              "      <td>25</td>\n",
              "      <td>False</td>\n",
              "    </tr>\n",
              "  </tbody>\n",
              "</table>\n",
              "</div>\n",
              "      <button class=\"colab-df-convert\" onclick=\"convertToInteractive('df-7f0afce4-f1b4-4538-911a-37659a2adf84')\"\n",
              "              title=\"Convert this dataframe to an interactive table.\"\n",
              "              style=\"display:none;\">\n",
              "        \n",
              "  <svg xmlns=\"http://www.w3.org/2000/svg\" height=\"24px\"viewBox=\"0 0 24 24\"\n",
              "       width=\"24px\">\n",
              "    <path d=\"M0 0h24v24H0V0z\" fill=\"none\"/>\n",
              "    <path d=\"M18.56 5.44l.94 2.06.94-2.06 2.06-.94-2.06-.94-.94-2.06-.94 2.06-2.06.94zm-11 1L8.5 8.5l.94-2.06 2.06-.94-2.06-.94L8.5 2.5l-.94 2.06-2.06.94zm10 10l.94 2.06.94-2.06 2.06-.94-2.06-.94-.94-2.06-.94 2.06-2.06.94z\"/><path d=\"M17.41 7.96l-1.37-1.37c-.4-.4-.92-.59-1.43-.59-.52 0-1.04.2-1.43.59L10.3 9.45l-7.72 7.72c-.78.78-.78 2.05 0 2.83L4 21.41c.39.39.9.59 1.41.59.51 0 1.02-.2 1.41-.59l7.78-7.78 2.81-2.81c.8-.78.8-2.07 0-2.86zM5.41 20L4 18.59l7.72-7.72 1.47 1.35L5.41 20z\"/>\n",
              "  </svg>\n",
              "      </button>\n",
              "      \n",
              "  <style>\n",
              "    .colab-df-container {\n",
              "      display:flex;\n",
              "      flex-wrap:wrap;\n",
              "      gap: 12px;\n",
              "    }\n",
              "\n",
              "    .colab-df-convert {\n",
              "      background-color: #E8F0FE;\n",
              "      border: none;\n",
              "      border-radius: 50%;\n",
              "      cursor: pointer;\n",
              "      display: none;\n",
              "      fill: #1967D2;\n",
              "      height: 32px;\n",
              "      padding: 0 0 0 0;\n",
              "      width: 32px;\n",
              "    }\n",
              "\n",
              "    .colab-df-convert:hover {\n",
              "      background-color: #E2EBFA;\n",
              "      box-shadow: 0px 1px 2px rgba(60, 64, 67, 0.3), 0px 1px 3px 1px rgba(60, 64, 67, 0.15);\n",
              "      fill: #174EA6;\n",
              "    }\n",
              "\n",
              "    [theme=dark] .colab-df-convert {\n",
              "      background-color: #3B4455;\n",
              "      fill: #D2E3FC;\n",
              "    }\n",
              "\n",
              "    [theme=dark] .colab-df-convert:hover {\n",
              "      background-color: #434B5C;\n",
              "      box-shadow: 0px 1px 3px 1px rgba(0, 0, 0, 0.15);\n",
              "      filter: drop-shadow(0px 1px 2px rgba(0, 0, 0, 0.3));\n",
              "      fill: #FFFFFF;\n",
              "    }\n",
              "  </style>\n",
              "\n",
              "      <script>\n",
              "        const buttonEl =\n",
              "          document.querySelector('#df-7f0afce4-f1b4-4538-911a-37659a2adf84 button.colab-df-convert');\n",
              "        buttonEl.style.display =\n",
              "          google.colab.kernel.accessAllowed ? 'block' : 'none';\n",
              "\n",
              "        async function convertToInteractive(key) {\n",
              "          const element = document.querySelector('#df-7f0afce4-f1b4-4538-911a-37659a2adf84');\n",
              "          const dataTable =\n",
              "            await google.colab.kernel.invokeFunction('convertToInteractive',\n",
              "                                                     [key], {});\n",
              "          if (!dataTable) return;\n",
              "\n",
              "          const docLinkHtml = 'Like what you see? Visit the ' +\n",
              "            '<a target=\"_blank\" href=https://colab.research.google.com/notebooks/data_table.ipynb>data table notebook</a>'\n",
              "            + ' to learn more about interactive tables.';\n",
              "          element.innerHTML = '';\n",
              "          dataTable['output_type'] = 'display_data';\n",
              "          await google.colab.output.renderOutput(dataTable, element);\n",
              "          const docLink = document.createElement('div');\n",
              "          docLink.innerHTML = docLinkHtml;\n",
              "          element.appendChild(docLink);\n",
              "        }\n",
              "      </script>\n",
              "    </div>\n",
              "  </div>\n",
              "  "
            ]
          },
          "metadata": {},
          "execution_count": 20
        }
      ]
    },
    {
      "cell_type": "markdown",
      "source": [
        "##2.2.4 Пример\n",
        "Загрузите фрейм данных по ссылке:\n",
        "https://raw.githubusercontent.com/chrisalbon/simulated_datasets/master/titan\n",
        "ic.csv\n"
      ],
      "metadata": {
        "id": "1hEoOYhfKLc4"
      }
    },
    {
      "cell_type": "code",
      "source": [
        "url = 'https://raw.githubusercontent.com/chrisalbon/simulated_datasets/master/titanic.csv' # Создать URL-адрес\n",
        "dataframe = pd.read_csv(url) # Загрузить данные\n",
        "dataframe.head(5) # Показать пять строк"
      ],
      "metadata": {
        "colab": {
          "base_uri": "https://localhost:8080/",
          "height": 250
        },
        "id": "W2FaV25fKQz2",
        "outputId": "4c73bdec-ce20-4a05-fff4-7b073a564c92"
      },
      "execution_count": 22,
      "outputs": [
        {
          "output_type": "execute_result",
          "data": {
            "text/plain": [
              "                                            Name PClass    Age     Sex  \\\n",
              "0                   Allen, Miss Elisabeth Walton    1st  29.00  female   \n",
              "1                    Allison, Miss Helen Loraine    1st   2.00  female   \n",
              "2            Allison, Mr Hudson Joshua Creighton    1st  30.00    male   \n",
              "3  Allison, Mrs Hudson JC (Bessie Waldo Daniels)    1st  25.00  female   \n",
              "4                  Allison, Master Hudson Trevor    1st   0.92    male   \n",
              "\n",
              "   Survived  SexCode  \n",
              "0         1        1  \n",
              "1         0        1  \n",
              "2         0        0  \n",
              "3         0        1  \n",
              "4         1        0  "
            ],
            "text/html": [
              "\n",
              "  <div id=\"df-03947fba-6e7a-4782-b6a9-7956a6f5c6c7\">\n",
              "    <div class=\"colab-df-container\">\n",
              "      <div>\n",
              "<style scoped>\n",
              "    .dataframe tbody tr th:only-of-type {\n",
              "        vertical-align: middle;\n",
              "    }\n",
              "\n",
              "    .dataframe tbody tr th {\n",
              "        vertical-align: top;\n",
              "    }\n",
              "\n",
              "    .dataframe thead th {\n",
              "        text-align: right;\n",
              "    }\n",
              "</style>\n",
              "<table border=\"1\" class=\"dataframe\">\n",
              "  <thead>\n",
              "    <tr style=\"text-align: right;\">\n",
              "      <th></th>\n",
              "      <th>Name</th>\n",
              "      <th>PClass</th>\n",
              "      <th>Age</th>\n",
              "      <th>Sex</th>\n",
              "      <th>Survived</th>\n",
              "      <th>SexCode</th>\n",
              "    </tr>\n",
              "  </thead>\n",
              "  <tbody>\n",
              "    <tr>\n",
              "      <th>0</th>\n",
              "      <td>Allen, Miss Elisabeth Walton</td>\n",
              "      <td>1st</td>\n",
              "      <td>29.00</td>\n",
              "      <td>female</td>\n",
              "      <td>1</td>\n",
              "      <td>1</td>\n",
              "    </tr>\n",
              "    <tr>\n",
              "      <th>1</th>\n",
              "      <td>Allison, Miss Helen Loraine</td>\n",
              "      <td>1st</td>\n",
              "      <td>2.00</td>\n",
              "      <td>female</td>\n",
              "      <td>0</td>\n",
              "      <td>1</td>\n",
              "    </tr>\n",
              "    <tr>\n",
              "      <th>2</th>\n",
              "      <td>Allison, Mr Hudson Joshua Creighton</td>\n",
              "      <td>1st</td>\n",
              "      <td>30.00</td>\n",
              "      <td>male</td>\n",
              "      <td>0</td>\n",
              "      <td>0</td>\n",
              "    </tr>\n",
              "    <tr>\n",
              "      <th>3</th>\n",
              "      <td>Allison, Mrs Hudson JC (Bessie Waldo Daniels)</td>\n",
              "      <td>1st</td>\n",
              "      <td>25.00</td>\n",
              "      <td>female</td>\n",
              "      <td>0</td>\n",
              "      <td>1</td>\n",
              "    </tr>\n",
              "    <tr>\n",
              "      <th>4</th>\n",
              "      <td>Allison, Master Hudson Trevor</td>\n",
              "      <td>1st</td>\n",
              "      <td>0.92</td>\n",
              "      <td>male</td>\n",
              "      <td>1</td>\n",
              "      <td>0</td>\n",
              "    </tr>\n",
              "  </tbody>\n",
              "</table>\n",
              "</div>\n",
              "      <button class=\"colab-df-convert\" onclick=\"convertToInteractive('df-03947fba-6e7a-4782-b6a9-7956a6f5c6c7')\"\n",
              "              title=\"Convert this dataframe to an interactive table.\"\n",
              "              style=\"display:none;\">\n",
              "        \n",
              "  <svg xmlns=\"http://www.w3.org/2000/svg\" height=\"24px\"viewBox=\"0 0 24 24\"\n",
              "       width=\"24px\">\n",
              "    <path d=\"M0 0h24v24H0V0z\" fill=\"none\"/>\n",
              "    <path d=\"M18.56 5.44l.94 2.06.94-2.06 2.06-.94-2.06-.94-.94-2.06-.94 2.06-2.06.94zm-11 1L8.5 8.5l.94-2.06 2.06-.94-2.06-.94L8.5 2.5l-.94 2.06-2.06.94zm10 10l.94 2.06.94-2.06 2.06-.94-2.06-.94-.94-2.06-.94 2.06-2.06.94z\"/><path d=\"M17.41 7.96l-1.37-1.37c-.4-.4-.92-.59-1.43-.59-.52 0-1.04.2-1.43.59L10.3 9.45l-7.72 7.72c-.78.78-.78 2.05 0 2.83L4 21.41c.39.39.9.59 1.41.59.51 0 1.02-.2 1.41-.59l7.78-7.78 2.81-2.81c.8-.78.8-2.07 0-2.86zM5.41 20L4 18.59l7.72-7.72 1.47 1.35L5.41 20z\"/>\n",
              "  </svg>\n",
              "      </button>\n",
              "      \n",
              "  <style>\n",
              "    .colab-df-container {\n",
              "      display:flex;\n",
              "      flex-wrap:wrap;\n",
              "      gap: 12px;\n",
              "    }\n",
              "\n",
              "    .colab-df-convert {\n",
              "      background-color: #E8F0FE;\n",
              "      border: none;\n",
              "      border-radius: 50%;\n",
              "      cursor: pointer;\n",
              "      display: none;\n",
              "      fill: #1967D2;\n",
              "      height: 32px;\n",
              "      padding: 0 0 0 0;\n",
              "      width: 32px;\n",
              "    }\n",
              "\n",
              "    .colab-df-convert:hover {\n",
              "      background-color: #E2EBFA;\n",
              "      box-shadow: 0px 1px 2px rgba(60, 64, 67, 0.3), 0px 1px 3px 1px rgba(60, 64, 67, 0.15);\n",
              "      fill: #174EA6;\n",
              "    }\n",
              "\n",
              "    [theme=dark] .colab-df-convert {\n",
              "      background-color: #3B4455;\n",
              "      fill: #D2E3FC;\n",
              "    }\n",
              "\n",
              "    [theme=dark] .colab-df-convert:hover {\n",
              "      background-color: #434B5C;\n",
              "      box-shadow: 0px 1px 3px 1px rgba(0, 0, 0, 0.15);\n",
              "      filter: drop-shadow(0px 1px 2px rgba(0, 0, 0, 0.3));\n",
              "      fill: #FFFFFF;\n",
              "    }\n",
              "  </style>\n",
              "\n",
              "      <script>\n",
              "        const buttonEl =\n",
              "          document.querySelector('#df-03947fba-6e7a-4782-b6a9-7956a6f5c6c7 button.colab-df-convert');\n",
              "        buttonEl.style.display =\n",
              "          google.colab.kernel.accessAllowed ? 'block' : 'none';\n",
              "\n",
              "        async function convertToInteractive(key) {\n",
              "          const element = document.querySelector('#df-03947fba-6e7a-4782-b6a9-7956a6f5c6c7');\n",
              "          const dataTable =\n",
              "            await google.colab.kernel.invokeFunction('convertToInteractive',\n",
              "                                                     [key], {});\n",
              "          if (!dataTable) return;\n",
              "\n",
              "          const docLinkHtml = 'Like what you see? Visit the ' +\n",
              "            '<a target=\"_blank\" href=https://colab.research.google.com/notebooks/data_table.ipynb>data table notebook</a>'\n",
              "            + ' to learn more about interactive tables.';\n",
              "          element.innerHTML = '';\n",
              "          dataTable['output_type'] = 'display_data';\n",
              "          await google.colab.output.renderOutput(dataTable, element);\n",
              "          const docLink = document.createElement('div');\n",
              "          docLink.innerHTML = docLinkHtml;\n",
              "          element.appendChild(docLink);\n",
              "        }\n",
              "      </script>\n",
              "    </div>\n",
              "  </div>\n",
              "  "
            ]
          },
          "metadata": {},
          "execution_count": 22
        }
      ]
    },
    {
      "cell_type": "markdown",
      "source": [
        "##2.2.5 Пример\n",
        "Пронализировать характеристики фрейма данных.\n",
        "\n",
        "Одна из самых простых вещей, которые мы можем сделать после\n",
        "загрузки данных, – это взглянуть на первые несколько строк с помощью\n",
        "метода head. На последние строки можно посмотреть с помощью\n",
        "функции tail. Мы также можем взглянуть на количество строк и\n",
        "столбцов: dataframe.shape. Кроме того, используя метод describe, мы\n",
        "можем получить описательную статистику для любых числовых\n",
        "столбцов"
      ],
      "metadata": {
        "id": "-wL7uKhfKaXi"
      }
    },
    {
      "cell_type": "code",
      "source": [
        "dataframe.head(2) # первые несколько строк\n",
        "dataframe.tail(3) # последние несколько строки\n",
        "dataframe.shape # количествово строк и столбцов\n",
        "dataframe.describe() # описательная статистика для любых числовых столбцов"
      ],
      "metadata": {
        "colab": {
          "base_uri": "https://localhost:8080/",
          "height": 300
        },
        "id": "UzkxCp5TKmYu",
        "outputId": "f3a1fbbf-72c3-4e59-8861-34e72317d684"
      },
      "execution_count": 23,
      "outputs": [
        {
          "output_type": "execute_result",
          "data": {
            "text/plain": [
              "              Age     Survived      SexCode\n",
              "count  756.000000  1313.000000  1313.000000\n",
              "mean    30.397989     0.342727     0.351866\n",
              "std     14.259049     0.474802     0.477734\n",
              "min      0.170000     0.000000     0.000000\n",
              "25%     21.000000     0.000000     0.000000\n",
              "50%     28.000000     0.000000     0.000000\n",
              "75%     39.000000     1.000000     1.000000\n",
              "max     71.000000     1.000000     1.000000"
            ],
            "text/html": [
              "\n",
              "  <div id=\"df-e8136743-fa8a-4a61-9253-8b30b9c37d01\">\n",
              "    <div class=\"colab-df-container\">\n",
              "      <div>\n",
              "<style scoped>\n",
              "    .dataframe tbody tr th:only-of-type {\n",
              "        vertical-align: middle;\n",
              "    }\n",
              "\n",
              "    .dataframe tbody tr th {\n",
              "        vertical-align: top;\n",
              "    }\n",
              "\n",
              "    .dataframe thead th {\n",
              "        text-align: right;\n",
              "    }\n",
              "</style>\n",
              "<table border=\"1\" class=\"dataframe\">\n",
              "  <thead>\n",
              "    <tr style=\"text-align: right;\">\n",
              "      <th></th>\n",
              "      <th>Age</th>\n",
              "      <th>Survived</th>\n",
              "      <th>SexCode</th>\n",
              "    </tr>\n",
              "  </thead>\n",
              "  <tbody>\n",
              "    <tr>\n",
              "      <th>count</th>\n",
              "      <td>756.000000</td>\n",
              "      <td>1313.000000</td>\n",
              "      <td>1313.000000</td>\n",
              "    </tr>\n",
              "    <tr>\n",
              "      <th>mean</th>\n",
              "      <td>30.397989</td>\n",
              "      <td>0.342727</td>\n",
              "      <td>0.351866</td>\n",
              "    </tr>\n",
              "    <tr>\n",
              "      <th>std</th>\n",
              "      <td>14.259049</td>\n",
              "      <td>0.474802</td>\n",
              "      <td>0.477734</td>\n",
              "    </tr>\n",
              "    <tr>\n",
              "      <th>min</th>\n",
              "      <td>0.170000</td>\n",
              "      <td>0.000000</td>\n",
              "      <td>0.000000</td>\n",
              "    </tr>\n",
              "    <tr>\n",
              "      <th>25%</th>\n",
              "      <td>21.000000</td>\n",
              "      <td>0.000000</td>\n",
              "      <td>0.000000</td>\n",
              "    </tr>\n",
              "    <tr>\n",
              "      <th>50%</th>\n",
              "      <td>28.000000</td>\n",
              "      <td>0.000000</td>\n",
              "      <td>0.000000</td>\n",
              "    </tr>\n",
              "    <tr>\n",
              "      <th>75%</th>\n",
              "      <td>39.000000</td>\n",
              "      <td>1.000000</td>\n",
              "      <td>1.000000</td>\n",
              "    </tr>\n",
              "    <tr>\n",
              "      <th>max</th>\n",
              "      <td>71.000000</td>\n",
              "      <td>1.000000</td>\n",
              "      <td>1.000000</td>\n",
              "    </tr>\n",
              "  </tbody>\n",
              "</table>\n",
              "</div>\n",
              "      <button class=\"colab-df-convert\" onclick=\"convertToInteractive('df-e8136743-fa8a-4a61-9253-8b30b9c37d01')\"\n",
              "              title=\"Convert this dataframe to an interactive table.\"\n",
              "              style=\"display:none;\">\n",
              "        \n",
              "  <svg xmlns=\"http://www.w3.org/2000/svg\" height=\"24px\"viewBox=\"0 0 24 24\"\n",
              "       width=\"24px\">\n",
              "    <path d=\"M0 0h24v24H0V0z\" fill=\"none\"/>\n",
              "    <path d=\"M18.56 5.44l.94 2.06.94-2.06 2.06-.94-2.06-.94-.94-2.06-.94 2.06-2.06.94zm-11 1L8.5 8.5l.94-2.06 2.06-.94-2.06-.94L8.5 2.5l-.94 2.06-2.06.94zm10 10l.94 2.06.94-2.06 2.06-.94-2.06-.94-.94-2.06-.94 2.06-2.06.94z\"/><path d=\"M17.41 7.96l-1.37-1.37c-.4-.4-.92-.59-1.43-.59-.52 0-1.04.2-1.43.59L10.3 9.45l-7.72 7.72c-.78.78-.78 2.05 0 2.83L4 21.41c.39.39.9.59 1.41.59.51 0 1.02-.2 1.41-.59l7.78-7.78 2.81-2.81c.8-.78.8-2.07 0-2.86zM5.41 20L4 18.59l7.72-7.72 1.47 1.35L5.41 20z\"/>\n",
              "  </svg>\n",
              "      </button>\n",
              "      \n",
              "  <style>\n",
              "    .colab-df-container {\n",
              "      display:flex;\n",
              "      flex-wrap:wrap;\n",
              "      gap: 12px;\n",
              "    }\n",
              "\n",
              "    .colab-df-convert {\n",
              "      background-color: #E8F0FE;\n",
              "      border: none;\n",
              "      border-radius: 50%;\n",
              "      cursor: pointer;\n",
              "      display: none;\n",
              "      fill: #1967D2;\n",
              "      height: 32px;\n",
              "      padding: 0 0 0 0;\n",
              "      width: 32px;\n",
              "    }\n",
              "\n",
              "    .colab-df-convert:hover {\n",
              "      background-color: #E2EBFA;\n",
              "      box-shadow: 0px 1px 2px rgba(60, 64, 67, 0.3), 0px 1px 3px 1px rgba(60, 64, 67, 0.15);\n",
              "      fill: #174EA6;\n",
              "    }\n",
              "\n",
              "    [theme=dark] .colab-df-convert {\n",
              "      background-color: #3B4455;\n",
              "      fill: #D2E3FC;\n",
              "    }\n",
              "\n",
              "    [theme=dark] .colab-df-convert:hover {\n",
              "      background-color: #434B5C;\n",
              "      box-shadow: 0px 1px 3px 1px rgba(0, 0, 0, 0.15);\n",
              "      filter: drop-shadow(0px 1px 2px rgba(0, 0, 0, 0.3));\n",
              "      fill: #FFFFFF;\n",
              "    }\n",
              "  </style>\n",
              "\n",
              "      <script>\n",
              "        const buttonEl =\n",
              "          document.querySelector('#df-e8136743-fa8a-4a61-9253-8b30b9c37d01 button.colab-df-convert');\n",
              "        buttonEl.style.display =\n",
              "          google.colab.kernel.accessAllowed ? 'block' : 'none';\n",
              "\n",
              "        async function convertToInteractive(key) {\n",
              "          const element = document.querySelector('#df-e8136743-fa8a-4a61-9253-8b30b9c37d01');\n",
              "          const dataTable =\n",
              "            await google.colab.kernel.invokeFunction('convertToInteractive',\n",
              "                                                     [key], {});\n",
              "          if (!dataTable) return;\n",
              "\n",
              "          const docLinkHtml = 'Like what you see? Visit the ' +\n",
              "            '<a target=\"_blank\" href=https://colab.research.google.com/notebooks/data_table.ipynb>data table notebook</a>'\n",
              "            + ' to learn more about interactive tables.';\n",
              "          element.innerHTML = '';\n",
              "          dataTable['output_type'] = 'display_data';\n",
              "          await google.colab.output.renderOutput(dataTable, element);\n",
              "          const docLink = document.createElement('div');\n",
              "          docLink.innerHTML = docLinkHtml;\n",
              "          element.appendChild(docLink);\n",
              "        }\n",
              "      </script>\n",
              "    </div>\n",
              "  </div>\n",
              "  "
            ]
          },
          "metadata": {},
          "execution_count": 23
        }
      ]
    },
    {
      "cell_type": "markdown",
      "source": [
        "##2.2.6 Пример\n",
        "Выберите индивидуальные данные или срезы фрейма данных.\n"
      ],
      "metadata": {
        "id": "XIFi3kLLK5IY"
      }
    },
    {
      "cell_type": "code",
      "source": [
        "dataframe.iloc[1:4] # для выбора 1 или нескольких строк, либо значений (либо loc)"
      ],
      "metadata": {
        "colab": {
          "base_uri": "https://localhost:8080/",
          "height": 187
        },
        "id": "Bmo1gLeoLChp",
        "outputId": "b89a50d8-5a52-496e-ed68-ac80e6d0155b"
      },
      "execution_count": 24,
      "outputs": [
        {
          "output_type": "execute_result",
          "data": {
            "text/plain": [
              "                                            Name PClass   Age     Sex  \\\n",
              "1                    Allison, Miss Helen Loraine    1st   2.0  female   \n",
              "2            Allison, Mr Hudson Joshua Creighton    1st  30.0    male   \n",
              "3  Allison, Mrs Hudson JC (Bessie Waldo Daniels)    1st  25.0  female   \n",
              "\n",
              "   Survived  SexCode  \n",
              "1         0        1  \n",
              "2         0        0  \n",
              "3         0        1  "
            ],
            "text/html": [
              "\n",
              "  <div id=\"df-5e59c2f7-f79e-4daa-b22f-9efeb90d9a4a\">\n",
              "    <div class=\"colab-df-container\">\n",
              "      <div>\n",
              "<style scoped>\n",
              "    .dataframe tbody tr th:only-of-type {\n",
              "        vertical-align: middle;\n",
              "    }\n",
              "\n",
              "    .dataframe tbody tr th {\n",
              "        vertical-align: top;\n",
              "    }\n",
              "\n",
              "    .dataframe thead th {\n",
              "        text-align: right;\n",
              "    }\n",
              "</style>\n",
              "<table border=\"1\" class=\"dataframe\">\n",
              "  <thead>\n",
              "    <tr style=\"text-align: right;\">\n",
              "      <th></th>\n",
              "      <th>Name</th>\n",
              "      <th>PClass</th>\n",
              "      <th>Age</th>\n",
              "      <th>Sex</th>\n",
              "      <th>Survived</th>\n",
              "      <th>SexCode</th>\n",
              "    </tr>\n",
              "  </thead>\n",
              "  <tbody>\n",
              "    <tr>\n",
              "      <th>1</th>\n",
              "      <td>Allison, Miss Helen Loraine</td>\n",
              "      <td>1st</td>\n",
              "      <td>2.0</td>\n",
              "      <td>female</td>\n",
              "      <td>0</td>\n",
              "      <td>1</td>\n",
              "    </tr>\n",
              "    <tr>\n",
              "      <th>2</th>\n",
              "      <td>Allison, Mr Hudson Joshua Creighton</td>\n",
              "      <td>1st</td>\n",
              "      <td>30.0</td>\n",
              "      <td>male</td>\n",
              "      <td>0</td>\n",
              "      <td>0</td>\n",
              "    </tr>\n",
              "    <tr>\n",
              "      <th>3</th>\n",
              "      <td>Allison, Mrs Hudson JC (Bessie Waldo Daniels)</td>\n",
              "      <td>1st</td>\n",
              "      <td>25.0</td>\n",
              "      <td>female</td>\n",
              "      <td>0</td>\n",
              "      <td>1</td>\n",
              "    </tr>\n",
              "  </tbody>\n",
              "</table>\n",
              "</div>\n",
              "      <button class=\"colab-df-convert\" onclick=\"convertToInteractive('df-5e59c2f7-f79e-4daa-b22f-9efeb90d9a4a')\"\n",
              "              title=\"Convert this dataframe to an interactive table.\"\n",
              "              style=\"display:none;\">\n",
              "        \n",
              "  <svg xmlns=\"http://www.w3.org/2000/svg\" height=\"24px\"viewBox=\"0 0 24 24\"\n",
              "       width=\"24px\">\n",
              "    <path d=\"M0 0h24v24H0V0z\" fill=\"none\"/>\n",
              "    <path d=\"M18.56 5.44l.94 2.06.94-2.06 2.06-.94-2.06-.94-.94-2.06-.94 2.06-2.06.94zm-11 1L8.5 8.5l.94-2.06 2.06-.94-2.06-.94L8.5 2.5l-.94 2.06-2.06.94zm10 10l.94 2.06.94-2.06 2.06-.94-2.06-.94-.94-2.06-.94 2.06-2.06.94z\"/><path d=\"M17.41 7.96l-1.37-1.37c-.4-.4-.92-.59-1.43-.59-.52 0-1.04.2-1.43.59L10.3 9.45l-7.72 7.72c-.78.78-.78 2.05 0 2.83L4 21.41c.39.39.9.59 1.41.59.51 0 1.02-.2 1.41-.59l7.78-7.78 2.81-2.81c.8-.78.8-2.07 0-2.86zM5.41 20L4 18.59l7.72-7.72 1.47 1.35L5.41 20z\"/>\n",
              "  </svg>\n",
              "      </button>\n",
              "      \n",
              "  <style>\n",
              "    .colab-df-container {\n",
              "      display:flex;\n",
              "      flex-wrap:wrap;\n",
              "      gap: 12px;\n",
              "    }\n",
              "\n",
              "    .colab-df-convert {\n",
              "      background-color: #E8F0FE;\n",
              "      border: none;\n",
              "      border-radius: 50%;\n",
              "      cursor: pointer;\n",
              "      display: none;\n",
              "      fill: #1967D2;\n",
              "      height: 32px;\n",
              "      padding: 0 0 0 0;\n",
              "      width: 32px;\n",
              "    }\n",
              "\n",
              "    .colab-df-convert:hover {\n",
              "      background-color: #E2EBFA;\n",
              "      box-shadow: 0px 1px 2px rgba(60, 64, 67, 0.3), 0px 1px 3px 1px rgba(60, 64, 67, 0.15);\n",
              "      fill: #174EA6;\n",
              "    }\n",
              "\n",
              "    [theme=dark] .colab-df-convert {\n",
              "      background-color: #3B4455;\n",
              "      fill: #D2E3FC;\n",
              "    }\n",
              "\n",
              "    [theme=dark] .colab-df-convert:hover {\n",
              "      background-color: #434B5C;\n",
              "      box-shadow: 0px 1px 3px 1px rgba(0, 0, 0, 0.15);\n",
              "      filter: drop-shadow(0px 1px 2px rgba(0, 0, 0, 0.3));\n",
              "      fill: #FFFFFF;\n",
              "    }\n",
              "  </style>\n",
              "\n",
              "      <script>\n",
              "        const buttonEl =\n",
              "          document.querySelector('#df-5e59c2f7-f79e-4daa-b22f-9efeb90d9a4a button.colab-df-convert');\n",
              "        buttonEl.style.display =\n",
              "          google.colab.kernel.accessAllowed ? 'block' : 'none';\n",
              "\n",
              "        async function convertToInteractive(key) {\n",
              "          const element = document.querySelector('#df-5e59c2f7-f79e-4daa-b22f-9efeb90d9a4a');\n",
              "          const dataTable =\n",
              "            await google.colab.kernel.invokeFunction('convertToInteractive',\n",
              "                                                     [key], {});\n",
              "          if (!dataTable) return;\n",
              "\n",
              "          const docLinkHtml = 'Like what you see? Visit the ' +\n",
              "            '<a target=\"_blank\" href=https://colab.research.google.com/notebooks/data_table.ipynb>data table notebook</a>'\n",
              "            + ' to learn more about interactive tables.';\n",
              "          element.innerHTML = '';\n",
              "          dataTable['output_type'] = 'display_data';\n",
              "          await google.colab.output.renderOutput(dataTable, element);\n",
              "          const docLink = document.createElement('div');\n",
              "          docLink.innerHTML = docLinkHtml;\n",
              "          element.appendChild(docLink);\n",
              "        }\n",
              "      </script>\n",
              "    </div>\n",
              "  </div>\n",
              "  "
            ]
          },
          "metadata": {},
          "execution_count": 24
        }
      ]
    },
    {
      "cell_type": "markdown",
      "source": [
        "##2.2.7 Пример\n",
        "Требуется отобрать строки фрейма данных на основе некоторого\n",
        "условия. Необходимо сформировать новый фрейм данных из пассажиров\n",
        "первого класса."
      ],
      "metadata": {
        "id": "f60R1mQ4LQHb"
      }
    },
    {
      "cell_type": "code",
      "source": [
        "dataframe[dataframe['PClass'] == '1st'].head(2)"
      ],
      "metadata": {
        "colab": {
          "base_uri": "https://localhost:8080/",
          "height": 112
        },
        "id": "2qLSsol3LVOV",
        "outputId": "04bcd098-7698-4d12-d963-cd3d432427d4"
      },
      "execution_count": 25,
      "outputs": [
        {
          "output_type": "execute_result",
          "data": {
            "text/plain": [
              "                           Name PClass   Age     Sex  Survived  SexCode\n",
              "0  Allen, Miss Elisabeth Walton    1st  29.0  female         1        1\n",
              "1   Allison, Miss Helen Loraine    1st   2.0  female         0        1"
            ],
            "text/html": [
              "\n",
              "  <div id=\"df-5a6d9bc5-bb0c-4407-a315-a4fcd80fe1c9\">\n",
              "    <div class=\"colab-df-container\">\n",
              "      <div>\n",
              "<style scoped>\n",
              "    .dataframe tbody tr th:only-of-type {\n",
              "        vertical-align: middle;\n",
              "    }\n",
              "\n",
              "    .dataframe tbody tr th {\n",
              "        vertical-align: top;\n",
              "    }\n",
              "\n",
              "    .dataframe thead th {\n",
              "        text-align: right;\n",
              "    }\n",
              "</style>\n",
              "<table border=\"1\" class=\"dataframe\">\n",
              "  <thead>\n",
              "    <tr style=\"text-align: right;\">\n",
              "      <th></th>\n",
              "      <th>Name</th>\n",
              "      <th>PClass</th>\n",
              "      <th>Age</th>\n",
              "      <th>Sex</th>\n",
              "      <th>Survived</th>\n",
              "      <th>SexCode</th>\n",
              "    </tr>\n",
              "  </thead>\n",
              "  <tbody>\n",
              "    <tr>\n",
              "      <th>0</th>\n",
              "      <td>Allen, Miss Elisabeth Walton</td>\n",
              "      <td>1st</td>\n",
              "      <td>29.0</td>\n",
              "      <td>female</td>\n",
              "      <td>1</td>\n",
              "      <td>1</td>\n",
              "    </tr>\n",
              "    <tr>\n",
              "      <th>1</th>\n",
              "      <td>Allison, Miss Helen Loraine</td>\n",
              "      <td>1st</td>\n",
              "      <td>2.0</td>\n",
              "      <td>female</td>\n",
              "      <td>0</td>\n",
              "      <td>1</td>\n",
              "    </tr>\n",
              "  </tbody>\n",
              "</table>\n",
              "</div>\n",
              "      <button class=\"colab-df-convert\" onclick=\"convertToInteractive('df-5a6d9bc5-bb0c-4407-a315-a4fcd80fe1c9')\"\n",
              "              title=\"Convert this dataframe to an interactive table.\"\n",
              "              style=\"display:none;\">\n",
              "        \n",
              "  <svg xmlns=\"http://www.w3.org/2000/svg\" height=\"24px\"viewBox=\"0 0 24 24\"\n",
              "       width=\"24px\">\n",
              "    <path d=\"M0 0h24v24H0V0z\" fill=\"none\"/>\n",
              "    <path d=\"M18.56 5.44l.94 2.06.94-2.06 2.06-.94-2.06-.94-.94-2.06-.94 2.06-2.06.94zm-11 1L8.5 8.5l.94-2.06 2.06-.94-2.06-.94L8.5 2.5l-.94 2.06-2.06.94zm10 10l.94 2.06.94-2.06 2.06-.94-2.06-.94-.94-2.06-.94 2.06-2.06.94z\"/><path d=\"M17.41 7.96l-1.37-1.37c-.4-.4-.92-.59-1.43-.59-.52 0-1.04.2-1.43.59L10.3 9.45l-7.72 7.72c-.78.78-.78 2.05 0 2.83L4 21.41c.39.39.9.59 1.41.59.51 0 1.02-.2 1.41-.59l7.78-7.78 2.81-2.81c.8-.78.8-2.07 0-2.86zM5.41 20L4 18.59l7.72-7.72 1.47 1.35L5.41 20z\"/>\n",
              "  </svg>\n",
              "      </button>\n",
              "      \n",
              "  <style>\n",
              "    .colab-df-container {\n",
              "      display:flex;\n",
              "      flex-wrap:wrap;\n",
              "      gap: 12px;\n",
              "    }\n",
              "\n",
              "    .colab-df-convert {\n",
              "      background-color: #E8F0FE;\n",
              "      border: none;\n",
              "      border-radius: 50%;\n",
              "      cursor: pointer;\n",
              "      display: none;\n",
              "      fill: #1967D2;\n",
              "      height: 32px;\n",
              "      padding: 0 0 0 0;\n",
              "      width: 32px;\n",
              "    }\n",
              "\n",
              "    .colab-df-convert:hover {\n",
              "      background-color: #E2EBFA;\n",
              "      box-shadow: 0px 1px 2px rgba(60, 64, 67, 0.3), 0px 1px 3px 1px rgba(60, 64, 67, 0.15);\n",
              "      fill: #174EA6;\n",
              "    }\n",
              "\n",
              "    [theme=dark] .colab-df-convert {\n",
              "      background-color: #3B4455;\n",
              "      fill: #D2E3FC;\n",
              "    }\n",
              "\n",
              "    [theme=dark] .colab-df-convert:hover {\n",
              "      background-color: #434B5C;\n",
              "      box-shadow: 0px 1px 3px 1px rgba(0, 0, 0, 0.15);\n",
              "      filter: drop-shadow(0px 1px 2px rgba(0, 0, 0, 0.3));\n",
              "      fill: #FFFFFF;\n",
              "    }\n",
              "  </style>\n",
              "\n",
              "      <script>\n",
              "        const buttonEl =\n",
              "          document.querySelector('#df-5a6d9bc5-bb0c-4407-a315-a4fcd80fe1c9 button.colab-df-convert');\n",
              "        buttonEl.style.display =\n",
              "          google.colab.kernel.accessAllowed ? 'block' : 'none';\n",
              "\n",
              "        async function convertToInteractive(key) {\n",
              "          const element = document.querySelector('#df-5a6d9bc5-bb0c-4407-a315-a4fcd80fe1c9');\n",
              "          const dataTable =\n",
              "            await google.colab.kernel.invokeFunction('convertToInteractive',\n",
              "                                                     [key], {});\n",
              "          if (!dataTable) return;\n",
              "\n",
              "          const docLinkHtml = 'Like what you see? Visit the ' +\n",
              "            '<a target=\"_blank\" href=https://colab.research.google.com/notebooks/data_table.ipynb>data table notebook</a>'\n",
              "            + ' to learn more about interactive tables.';\n",
              "          element.innerHTML = '';\n",
              "          dataTable['output_type'] = 'display_data';\n",
              "          await google.colab.output.renderOutput(dataTable, element);\n",
              "          const docLink = document.createElement('div');\n",
              "          docLink.innerHTML = docLinkHtml;\n",
              "          element.appendChild(docLink);\n",
              "        }\n",
              "      </script>\n",
              "    </div>\n",
              "  </div>\n",
              "  "
            ]
          },
          "metadata": {},
          "execution_count": 25
        }
      ]
    },
    {
      "cell_type": "markdown",
      "source": [
        "##2.3.1 Задание\n",
        "Найдитн евклидово расстояние между двумя Series (точками) a и b, не\n",
        "используя встроенную формулу."
      ],
      "metadata": {
        "id": "nAZ1pefX6A3v"
      }
    },
    {
      "cell_type": "code",
      "source": [
        "import pandas as pd\n",
        "import math as m\n",
        "a = pd.Series([2, 3, 7])\n",
        "b = pd.Series([0, -5, 9])\n",
        "print(m.sqrt((a[0] - b[0]) ^ 2 + (a[1] - b[1]) ^ 2 + (a[2] - b[2]) ^ 2))\n"
      ],
      "metadata": {
        "colab": {
          "base_uri": "https://localhost:8080/"
        },
        "id": "_cOQSK_n6UJ4",
        "outputId": "f0a8b751-7481-4145-b2f7-890caee63efc"
      },
      "execution_count": 3,
      "outputs": [
        {
          "output_type": "stream",
          "name": "stdout",
          "text": [
            "3.1622776601683795\n"
          ]
        }
      ]
    },
    {
      "cell_type": "markdown",
      "source": [
        "##2.3.2 Задание\n",
        "Найдите в Интернете ссылку на любой csv файл и сформируйте из него\n",
        "фрейм данных (например, коллекцию фреймов данных можно найти\n",
        "здесь: https://github.com/akmand/datasets)."
      ],
      "metadata": {
        "id": "4oTK7HKd75I-"
      }
    },
    {
      "cell_type": "code",
      "source": [
        "url='https://raw.githubusercontent.com/chrisalbon/sim_data/master/sales.csv' \n",
        "dataframe=pd.read_csv(url) \n",
        "dataframe.head(5)"
      ],
      "metadata": {
        "colab": {
          "base_uri": "https://localhost:8080/",
          "height": 250
        },
        "id": "XvWcyi2B8W05",
        "outputId": "5c806b18-bf12-4c75-fef3-c23fb4578c91"
      },
      "execution_count": 6,
      "outputs": [
        {
          "output_type": "execute_result",
          "data": {
            "text/plain": [
              "             Name                         Country                Company  \\\n",
              "0    Brenden Cote        Central African Republic            Metus Corp.   \n",
              "1    Justina Reed                         Namibia           Lobortis Ltd   \n",
              "2   Daquan Vinson  Svalbard and Jan Mayen Islands        A Mi Consulting   \n",
              "3  Connor Shelton                            Niue  Parturient Consulting   \n",
              "4    Drew Carlson                         Mayotte    Interdum Associates   \n",
              "\n",
              "           Date  Sales  \n",
              "0  Feb 17, 2018  67044  \n",
              "1  Apr 27, 2017  89517  \n",
              "2  Aug 14, 2016  62705  \n",
              "3  Feb 13, 2017  12675  \n",
              "4  Sep 26, 2017  86670  "
            ],
            "text/html": [
              "\n",
              "  <div id=\"df-b3707349-00df-4968-a1cc-1ccf7115b8a6\">\n",
              "    <div class=\"colab-df-container\">\n",
              "      <div>\n",
              "<style scoped>\n",
              "    .dataframe tbody tr th:only-of-type {\n",
              "        vertical-align: middle;\n",
              "    }\n",
              "\n",
              "    .dataframe tbody tr th {\n",
              "        vertical-align: top;\n",
              "    }\n",
              "\n",
              "    .dataframe thead th {\n",
              "        text-align: right;\n",
              "    }\n",
              "</style>\n",
              "<table border=\"1\" class=\"dataframe\">\n",
              "  <thead>\n",
              "    <tr style=\"text-align: right;\">\n",
              "      <th></th>\n",
              "      <th>Name</th>\n",
              "      <th>Country</th>\n",
              "      <th>Company</th>\n",
              "      <th>Date</th>\n",
              "      <th>Sales</th>\n",
              "    </tr>\n",
              "  </thead>\n",
              "  <tbody>\n",
              "    <tr>\n",
              "      <th>0</th>\n",
              "      <td>Brenden Cote</td>\n",
              "      <td>Central African Republic</td>\n",
              "      <td>Metus Corp.</td>\n",
              "      <td>Feb 17, 2018</td>\n",
              "      <td>67044</td>\n",
              "    </tr>\n",
              "    <tr>\n",
              "      <th>1</th>\n",
              "      <td>Justina Reed</td>\n",
              "      <td>Namibia</td>\n",
              "      <td>Lobortis Ltd</td>\n",
              "      <td>Apr 27, 2017</td>\n",
              "      <td>89517</td>\n",
              "    </tr>\n",
              "    <tr>\n",
              "      <th>2</th>\n",
              "      <td>Daquan Vinson</td>\n",
              "      <td>Svalbard and Jan Mayen Islands</td>\n",
              "      <td>A Mi Consulting</td>\n",
              "      <td>Aug 14, 2016</td>\n",
              "      <td>62705</td>\n",
              "    </tr>\n",
              "    <tr>\n",
              "      <th>3</th>\n",
              "      <td>Connor Shelton</td>\n",
              "      <td>Niue</td>\n",
              "      <td>Parturient Consulting</td>\n",
              "      <td>Feb 13, 2017</td>\n",
              "      <td>12675</td>\n",
              "    </tr>\n",
              "    <tr>\n",
              "      <th>4</th>\n",
              "      <td>Drew Carlson</td>\n",
              "      <td>Mayotte</td>\n",
              "      <td>Interdum Associates</td>\n",
              "      <td>Sep 26, 2017</td>\n",
              "      <td>86670</td>\n",
              "    </tr>\n",
              "  </tbody>\n",
              "</table>\n",
              "</div>\n",
              "      <button class=\"colab-df-convert\" onclick=\"convertToInteractive('df-b3707349-00df-4968-a1cc-1ccf7115b8a6')\"\n",
              "              title=\"Convert this dataframe to an interactive table.\"\n",
              "              style=\"display:none;\">\n",
              "        \n",
              "  <svg xmlns=\"http://www.w3.org/2000/svg\" height=\"24px\"viewBox=\"0 0 24 24\"\n",
              "       width=\"24px\">\n",
              "    <path d=\"M0 0h24v24H0V0z\" fill=\"none\"/>\n",
              "    <path d=\"M18.56 5.44l.94 2.06.94-2.06 2.06-.94-2.06-.94-.94-2.06-.94 2.06-2.06.94zm-11 1L8.5 8.5l.94-2.06 2.06-.94-2.06-.94L8.5 2.5l-.94 2.06-2.06.94zm10 10l.94 2.06.94-2.06 2.06-.94-2.06-.94-.94-2.06-.94 2.06-2.06.94z\"/><path d=\"M17.41 7.96l-1.37-1.37c-.4-.4-.92-.59-1.43-.59-.52 0-1.04.2-1.43.59L10.3 9.45l-7.72 7.72c-.78.78-.78 2.05 0 2.83L4 21.41c.39.39.9.59 1.41.59.51 0 1.02-.2 1.41-.59l7.78-7.78 2.81-2.81c.8-.78.8-2.07 0-2.86zM5.41 20L4 18.59l7.72-7.72 1.47 1.35L5.41 20z\"/>\n",
              "  </svg>\n",
              "      </button>\n",
              "      \n",
              "  <style>\n",
              "    .colab-df-container {\n",
              "      display:flex;\n",
              "      flex-wrap:wrap;\n",
              "      gap: 12px;\n",
              "    }\n",
              "\n",
              "    .colab-df-convert {\n",
              "      background-color: #E8F0FE;\n",
              "      border: none;\n",
              "      border-radius: 50%;\n",
              "      cursor: pointer;\n",
              "      display: none;\n",
              "      fill: #1967D2;\n",
              "      height: 32px;\n",
              "      padding: 0 0 0 0;\n",
              "      width: 32px;\n",
              "    }\n",
              "\n",
              "    .colab-df-convert:hover {\n",
              "      background-color: #E2EBFA;\n",
              "      box-shadow: 0px 1px 2px rgba(60, 64, 67, 0.3), 0px 1px 3px 1px rgba(60, 64, 67, 0.15);\n",
              "      fill: #174EA6;\n",
              "    }\n",
              "\n",
              "    [theme=dark] .colab-df-convert {\n",
              "      background-color: #3B4455;\n",
              "      fill: #D2E3FC;\n",
              "    }\n",
              "\n",
              "    [theme=dark] .colab-df-convert:hover {\n",
              "      background-color: #434B5C;\n",
              "      box-shadow: 0px 1px 3px 1px rgba(0, 0, 0, 0.15);\n",
              "      filter: drop-shadow(0px 1px 2px rgba(0, 0, 0, 0.3));\n",
              "      fill: #FFFFFF;\n",
              "    }\n",
              "  </style>\n",
              "\n",
              "      <script>\n",
              "        const buttonEl =\n",
              "          document.querySelector('#df-b3707349-00df-4968-a1cc-1ccf7115b8a6 button.colab-df-convert');\n",
              "        buttonEl.style.display =\n",
              "          google.colab.kernel.accessAllowed ? 'block' : 'none';\n",
              "\n",
              "        async function convertToInteractive(key) {\n",
              "          const element = document.querySelector('#df-b3707349-00df-4968-a1cc-1ccf7115b8a6');\n",
              "          const dataTable =\n",
              "            await google.colab.kernel.invokeFunction('convertToInteractive',\n",
              "                                                     [key], {});\n",
              "          if (!dataTable) return;\n",
              "\n",
              "          const docLinkHtml = 'Like what you see? Visit the ' +\n",
              "            '<a target=\"_blank\" href=https://colab.research.google.com/notebooks/data_table.ipynb>data table notebook</a>'\n",
              "            + ' to learn more about interactive tables.';\n",
              "          element.innerHTML = '';\n",
              "          dataTable['output_type'] = 'display_data';\n",
              "          await google.colab.output.renderOutput(dataTable, element);\n",
              "          const docLink = document.createElement('div');\n",
              "          docLink.innerHTML = docLinkHtml;\n",
              "          element.appendChild(docLink);\n",
              "        }\n",
              "      </script>\n",
              "    </div>\n",
              "  </div>\n",
              "  "
            ]
          },
          "metadata": {},
          "execution_count": 6
        }
      ]
    },
    {
      "cell_type": "markdown",
      "source": [
        "##2.3.3 Задание\n",
        "Проделайте с получившемся из предыдущего задания фреймом данных\n",
        "те же действия, что и в примерах 2.2.5-2.2.7."
      ],
      "metadata": {
        "id": "nzdHaA_T8Ypn"
      }
    },
    {
      "cell_type": "code",
      "source": [
        "url='https://raw.githubusercontent.com/chrisalbon/sim_data/master/sales.csv' \n",
        "dataframe = pd.read_csv(url)\n",
        "dataframe.head(4) # первые 4 строки\n",
        "dataframe.tail(5) # последние 5 строк\n",
        "dataframe.shape # количество строк и столбцов\n",
        "dataframe.describe() # описательная статистика для любых числовых столбцов"
      ],
      "metadata": {
        "colab": {
          "base_uri": "https://localhost:8080/",
          "height": 300
        },
        "id": "GOhT7dQT8gqu",
        "outputId": "2e762413-3abb-4f2c-b10e-08ea3cb9e1fe"
      },
      "execution_count": 8,
      "outputs": [
        {
          "output_type": "execute_result",
          "data": {
            "text/plain": [
              "              Sales\n",
              "count    100.000000\n",
              "mean   51892.470000\n",
              "std    29707.005083\n",
              "min       59.000000\n",
              "25%    29415.750000\n",
              "50%    48845.500000\n",
              "75%    77878.000000\n",
              "max    99880.000000"
            ],
            "text/html": [
              "\n",
              "  <div id=\"df-da827536-6dd5-432c-b042-c8e44437b928\">\n",
              "    <div class=\"colab-df-container\">\n",
              "      <div>\n",
              "<style scoped>\n",
              "    .dataframe tbody tr th:only-of-type {\n",
              "        vertical-align: middle;\n",
              "    }\n",
              "\n",
              "    .dataframe tbody tr th {\n",
              "        vertical-align: top;\n",
              "    }\n",
              "\n",
              "    .dataframe thead th {\n",
              "        text-align: right;\n",
              "    }\n",
              "</style>\n",
              "<table border=\"1\" class=\"dataframe\">\n",
              "  <thead>\n",
              "    <tr style=\"text-align: right;\">\n",
              "      <th></th>\n",
              "      <th>Sales</th>\n",
              "    </tr>\n",
              "  </thead>\n",
              "  <tbody>\n",
              "    <tr>\n",
              "      <th>count</th>\n",
              "      <td>100.000000</td>\n",
              "    </tr>\n",
              "    <tr>\n",
              "      <th>mean</th>\n",
              "      <td>51892.470000</td>\n",
              "    </tr>\n",
              "    <tr>\n",
              "      <th>std</th>\n",
              "      <td>29707.005083</td>\n",
              "    </tr>\n",
              "    <tr>\n",
              "      <th>min</th>\n",
              "      <td>59.000000</td>\n",
              "    </tr>\n",
              "    <tr>\n",
              "      <th>25%</th>\n",
              "      <td>29415.750000</td>\n",
              "    </tr>\n",
              "    <tr>\n",
              "      <th>50%</th>\n",
              "      <td>48845.500000</td>\n",
              "    </tr>\n",
              "    <tr>\n",
              "      <th>75%</th>\n",
              "      <td>77878.000000</td>\n",
              "    </tr>\n",
              "    <tr>\n",
              "      <th>max</th>\n",
              "      <td>99880.000000</td>\n",
              "    </tr>\n",
              "  </tbody>\n",
              "</table>\n",
              "</div>\n",
              "      <button class=\"colab-df-convert\" onclick=\"convertToInteractive('df-da827536-6dd5-432c-b042-c8e44437b928')\"\n",
              "              title=\"Convert this dataframe to an interactive table.\"\n",
              "              style=\"display:none;\">\n",
              "        \n",
              "  <svg xmlns=\"http://www.w3.org/2000/svg\" height=\"24px\"viewBox=\"0 0 24 24\"\n",
              "       width=\"24px\">\n",
              "    <path d=\"M0 0h24v24H0V0z\" fill=\"none\"/>\n",
              "    <path d=\"M18.56 5.44l.94 2.06.94-2.06 2.06-.94-2.06-.94-.94-2.06-.94 2.06-2.06.94zm-11 1L8.5 8.5l.94-2.06 2.06-.94-2.06-.94L8.5 2.5l-.94 2.06-2.06.94zm10 10l.94 2.06.94-2.06 2.06-.94-2.06-.94-.94-2.06-.94 2.06-2.06.94z\"/><path d=\"M17.41 7.96l-1.37-1.37c-.4-.4-.92-.59-1.43-.59-.52 0-1.04.2-1.43.59L10.3 9.45l-7.72 7.72c-.78.78-.78 2.05 0 2.83L4 21.41c.39.39.9.59 1.41.59.51 0 1.02-.2 1.41-.59l7.78-7.78 2.81-2.81c.8-.78.8-2.07 0-2.86zM5.41 20L4 18.59l7.72-7.72 1.47 1.35L5.41 20z\"/>\n",
              "  </svg>\n",
              "      </button>\n",
              "      \n",
              "  <style>\n",
              "    .colab-df-container {\n",
              "      display:flex;\n",
              "      flex-wrap:wrap;\n",
              "      gap: 12px;\n",
              "    }\n",
              "\n",
              "    .colab-df-convert {\n",
              "      background-color: #E8F0FE;\n",
              "      border: none;\n",
              "      border-radius: 50%;\n",
              "      cursor: pointer;\n",
              "      display: none;\n",
              "      fill: #1967D2;\n",
              "      height: 32px;\n",
              "      padding: 0 0 0 0;\n",
              "      width: 32px;\n",
              "    }\n",
              "\n",
              "    .colab-df-convert:hover {\n",
              "      background-color: #E2EBFA;\n",
              "      box-shadow: 0px 1px 2px rgba(60, 64, 67, 0.3), 0px 1px 3px 1px rgba(60, 64, 67, 0.15);\n",
              "      fill: #174EA6;\n",
              "    }\n",
              "\n",
              "    [theme=dark] .colab-df-convert {\n",
              "      background-color: #3B4455;\n",
              "      fill: #D2E3FC;\n",
              "    }\n",
              "\n",
              "    [theme=dark] .colab-df-convert:hover {\n",
              "      background-color: #434B5C;\n",
              "      box-shadow: 0px 1px 3px 1px rgba(0, 0, 0, 0.15);\n",
              "      filter: drop-shadow(0px 1px 2px rgba(0, 0, 0, 0.3));\n",
              "      fill: #FFFFFF;\n",
              "    }\n",
              "  </style>\n",
              "\n",
              "      <script>\n",
              "        const buttonEl =\n",
              "          document.querySelector('#df-da827536-6dd5-432c-b042-c8e44437b928 button.colab-df-convert');\n",
              "        buttonEl.style.display =\n",
              "          google.colab.kernel.accessAllowed ? 'block' : 'none';\n",
              "\n",
              "        async function convertToInteractive(key) {\n",
              "          const element = document.querySelector('#df-da827536-6dd5-432c-b042-c8e44437b928');\n",
              "          const dataTable =\n",
              "            await google.colab.kernel.invokeFunction('convertToInteractive',\n",
              "                                                     [key], {});\n",
              "          if (!dataTable) return;\n",
              "\n",
              "          const docLinkHtml = 'Like what you see? Visit the ' +\n",
              "            '<a target=\"_blank\" href=https://colab.research.google.com/notebooks/data_table.ipynb>data table notebook</a>'\n",
              "            + ' to learn more about interactive tables.';\n",
              "          element.innerHTML = '';\n",
              "          dataTable['output_type'] = 'display_data';\n",
              "          await google.colab.output.renderOutput(dataTable, element);\n",
              "          const docLink = document.createElement('div');\n",
              "          docLink.innerHTML = docLinkHtml;\n",
              "          element.appendChild(docLink);\n",
              "        }\n",
              "      </script>\n",
              "    </div>\n",
              "  </div>\n",
              "  "
            ]
          },
          "metadata": {},
          "execution_count": 8
        }
      ]
    },
    {
      "cell_type": "code",
      "source": [
        "dataframe.iloc[1:4]"
      ],
      "metadata": {
        "colab": {
          "base_uri": "https://localhost:8080/",
          "height": 187
        },
        "id": "NhjXcaJM94pq",
        "outputId": "b7c61bfd-4b55-4dd7-94f4-c6a1e297101b"
      },
      "execution_count": 13,
      "outputs": [
        {
          "output_type": "execute_result",
          "data": {
            "text/plain": [
              "             Name                         Country                Company  \\\n",
              "1    Justina Reed                         Namibia           Lobortis Ltd   \n",
              "2   Daquan Vinson  Svalbard and Jan Mayen Islands        A Mi Consulting   \n",
              "3  Connor Shelton                            Niue  Parturient Consulting   \n",
              "\n",
              "           Date  Sales  \n",
              "1  Apr 27, 2017  89517  \n",
              "2  Aug 14, 2016  62705  \n",
              "3  Feb 13, 2017  12675  "
            ],
            "text/html": [
              "\n",
              "  <div id=\"df-1f41fc1e-4814-41bd-8470-c5f5f8b1dbdd\">\n",
              "    <div class=\"colab-df-container\">\n",
              "      <div>\n",
              "<style scoped>\n",
              "    .dataframe tbody tr th:only-of-type {\n",
              "        vertical-align: middle;\n",
              "    }\n",
              "\n",
              "    .dataframe tbody tr th {\n",
              "        vertical-align: top;\n",
              "    }\n",
              "\n",
              "    .dataframe thead th {\n",
              "        text-align: right;\n",
              "    }\n",
              "</style>\n",
              "<table border=\"1\" class=\"dataframe\">\n",
              "  <thead>\n",
              "    <tr style=\"text-align: right;\">\n",
              "      <th></th>\n",
              "      <th>Name</th>\n",
              "      <th>Country</th>\n",
              "      <th>Company</th>\n",
              "      <th>Date</th>\n",
              "      <th>Sales</th>\n",
              "    </tr>\n",
              "  </thead>\n",
              "  <tbody>\n",
              "    <tr>\n",
              "      <th>1</th>\n",
              "      <td>Justina Reed</td>\n",
              "      <td>Namibia</td>\n",
              "      <td>Lobortis Ltd</td>\n",
              "      <td>Apr 27, 2017</td>\n",
              "      <td>89517</td>\n",
              "    </tr>\n",
              "    <tr>\n",
              "      <th>2</th>\n",
              "      <td>Daquan Vinson</td>\n",
              "      <td>Svalbard and Jan Mayen Islands</td>\n",
              "      <td>A Mi Consulting</td>\n",
              "      <td>Aug 14, 2016</td>\n",
              "      <td>62705</td>\n",
              "    </tr>\n",
              "    <tr>\n",
              "      <th>3</th>\n",
              "      <td>Connor Shelton</td>\n",
              "      <td>Niue</td>\n",
              "      <td>Parturient Consulting</td>\n",
              "      <td>Feb 13, 2017</td>\n",
              "      <td>12675</td>\n",
              "    </tr>\n",
              "  </tbody>\n",
              "</table>\n",
              "</div>\n",
              "      <button class=\"colab-df-convert\" onclick=\"convertToInteractive('df-1f41fc1e-4814-41bd-8470-c5f5f8b1dbdd')\"\n",
              "              title=\"Convert this dataframe to an interactive table.\"\n",
              "              style=\"display:none;\">\n",
              "        \n",
              "  <svg xmlns=\"http://www.w3.org/2000/svg\" height=\"24px\"viewBox=\"0 0 24 24\"\n",
              "       width=\"24px\">\n",
              "    <path d=\"M0 0h24v24H0V0z\" fill=\"none\"/>\n",
              "    <path d=\"M18.56 5.44l.94 2.06.94-2.06 2.06-.94-2.06-.94-.94-2.06-.94 2.06-2.06.94zm-11 1L8.5 8.5l.94-2.06 2.06-.94-2.06-.94L8.5 2.5l-.94 2.06-2.06.94zm10 10l.94 2.06.94-2.06 2.06-.94-2.06-.94-.94-2.06-.94 2.06-2.06.94z\"/><path d=\"M17.41 7.96l-1.37-1.37c-.4-.4-.92-.59-1.43-.59-.52 0-1.04.2-1.43.59L10.3 9.45l-7.72 7.72c-.78.78-.78 2.05 0 2.83L4 21.41c.39.39.9.59 1.41.59.51 0 1.02-.2 1.41-.59l7.78-7.78 2.81-2.81c.8-.78.8-2.07 0-2.86zM5.41 20L4 18.59l7.72-7.72 1.47 1.35L5.41 20z\"/>\n",
              "  </svg>\n",
              "      </button>\n",
              "      \n",
              "  <style>\n",
              "    .colab-df-container {\n",
              "      display:flex;\n",
              "      flex-wrap:wrap;\n",
              "      gap: 12px;\n",
              "    }\n",
              "\n",
              "    .colab-df-convert {\n",
              "      background-color: #E8F0FE;\n",
              "      border: none;\n",
              "      border-radius: 50%;\n",
              "      cursor: pointer;\n",
              "      display: none;\n",
              "      fill: #1967D2;\n",
              "      height: 32px;\n",
              "      padding: 0 0 0 0;\n",
              "      width: 32px;\n",
              "    }\n",
              "\n",
              "    .colab-df-convert:hover {\n",
              "      background-color: #E2EBFA;\n",
              "      box-shadow: 0px 1px 2px rgba(60, 64, 67, 0.3), 0px 1px 3px 1px rgba(60, 64, 67, 0.15);\n",
              "      fill: #174EA6;\n",
              "    }\n",
              "\n",
              "    [theme=dark] .colab-df-convert {\n",
              "      background-color: #3B4455;\n",
              "      fill: #D2E3FC;\n",
              "    }\n",
              "\n",
              "    [theme=dark] .colab-df-convert:hover {\n",
              "      background-color: #434B5C;\n",
              "      box-shadow: 0px 1px 3px 1px rgba(0, 0, 0, 0.15);\n",
              "      filter: drop-shadow(0px 1px 2px rgba(0, 0, 0, 0.3));\n",
              "      fill: #FFFFFF;\n",
              "    }\n",
              "  </style>\n",
              "\n",
              "      <script>\n",
              "        const buttonEl =\n",
              "          document.querySelector('#df-1f41fc1e-4814-41bd-8470-c5f5f8b1dbdd button.colab-df-convert');\n",
              "        buttonEl.style.display =\n",
              "          google.colab.kernel.accessAllowed ? 'block' : 'none';\n",
              "\n",
              "        async function convertToInteractive(key) {\n",
              "          const element = document.querySelector('#df-1f41fc1e-4814-41bd-8470-c5f5f8b1dbdd');\n",
              "          const dataTable =\n",
              "            await google.colab.kernel.invokeFunction('convertToInteractive',\n",
              "                                                     [key], {});\n",
              "          if (!dataTable) return;\n",
              "\n",
              "          const docLinkHtml = 'Like what you see? Visit the ' +\n",
              "            '<a target=\"_blank\" href=https://colab.research.google.com/notebooks/data_table.ipynb>data table notebook</a>'\n",
              "            + ' to learn more about interactive tables.';\n",
              "          element.innerHTML = '';\n",
              "          dataTable['output_type'] = 'display_data';\n",
              "          await google.colab.output.renderOutput(dataTable, element);\n",
              "          const docLink = document.createElement('div');\n",
              "          docLink.innerHTML = docLinkHtml;\n",
              "          element.appendChild(docLink);\n",
              "        }\n",
              "      </script>\n",
              "    </div>\n",
              "  </div>\n",
              "  "
            ]
          },
          "metadata": {},
          "execution_count": 13
        }
      ]
    },
    {
      "cell_type": "code",
      "source": [
        "dataframe[dataframe['Country'] == 'Namibia'].head(2)"
      ],
      "metadata": {
        "colab": {
          "base_uri": "https://localhost:8080/",
          "height": 81
        },
        "id": "kv4FZSLu-Axv",
        "outputId": "cb96f885-174e-4d04-d35a-b751ef32d2f1"
      },
      "execution_count": 12,
      "outputs": [
        {
          "output_type": "execute_result",
          "data": {
            "text/plain": [
              "           Name  Country       Company          Date  Sales\n",
              "1  Justina Reed  Namibia  Lobortis Ltd  Apr 27, 2017  89517"
            ],
            "text/html": [
              "\n",
              "  <div id=\"df-299aef0e-4bd6-4909-833f-17cab93b859e\">\n",
              "    <div class=\"colab-df-container\">\n",
              "      <div>\n",
              "<style scoped>\n",
              "    .dataframe tbody tr th:only-of-type {\n",
              "        vertical-align: middle;\n",
              "    }\n",
              "\n",
              "    .dataframe tbody tr th {\n",
              "        vertical-align: top;\n",
              "    }\n",
              "\n",
              "    .dataframe thead th {\n",
              "        text-align: right;\n",
              "    }\n",
              "</style>\n",
              "<table border=\"1\" class=\"dataframe\">\n",
              "  <thead>\n",
              "    <tr style=\"text-align: right;\">\n",
              "      <th></th>\n",
              "      <th>Name</th>\n",
              "      <th>Country</th>\n",
              "      <th>Company</th>\n",
              "      <th>Date</th>\n",
              "      <th>Sales</th>\n",
              "    </tr>\n",
              "  </thead>\n",
              "  <tbody>\n",
              "    <tr>\n",
              "      <th>1</th>\n",
              "      <td>Justina Reed</td>\n",
              "      <td>Namibia</td>\n",
              "      <td>Lobortis Ltd</td>\n",
              "      <td>Apr 27, 2017</td>\n",
              "      <td>89517</td>\n",
              "    </tr>\n",
              "  </tbody>\n",
              "</table>\n",
              "</div>\n",
              "      <button class=\"colab-df-convert\" onclick=\"convertToInteractive('df-299aef0e-4bd6-4909-833f-17cab93b859e')\"\n",
              "              title=\"Convert this dataframe to an interactive table.\"\n",
              "              style=\"display:none;\">\n",
              "        \n",
              "  <svg xmlns=\"http://www.w3.org/2000/svg\" height=\"24px\"viewBox=\"0 0 24 24\"\n",
              "       width=\"24px\">\n",
              "    <path d=\"M0 0h24v24H0V0z\" fill=\"none\"/>\n",
              "    <path d=\"M18.56 5.44l.94 2.06.94-2.06 2.06-.94-2.06-.94-.94-2.06-.94 2.06-2.06.94zm-11 1L8.5 8.5l.94-2.06 2.06-.94-2.06-.94L8.5 2.5l-.94 2.06-2.06.94zm10 10l.94 2.06.94-2.06 2.06-.94-2.06-.94-.94-2.06-.94 2.06-2.06.94z\"/><path d=\"M17.41 7.96l-1.37-1.37c-.4-.4-.92-.59-1.43-.59-.52 0-1.04.2-1.43.59L10.3 9.45l-7.72 7.72c-.78.78-.78 2.05 0 2.83L4 21.41c.39.39.9.59 1.41.59.51 0 1.02-.2 1.41-.59l7.78-7.78 2.81-2.81c.8-.78.8-2.07 0-2.86zM5.41 20L4 18.59l7.72-7.72 1.47 1.35L5.41 20z\"/>\n",
              "  </svg>\n",
              "      </button>\n",
              "      \n",
              "  <style>\n",
              "    .colab-df-container {\n",
              "      display:flex;\n",
              "      flex-wrap:wrap;\n",
              "      gap: 12px;\n",
              "    }\n",
              "\n",
              "    .colab-df-convert {\n",
              "      background-color: #E8F0FE;\n",
              "      border: none;\n",
              "      border-radius: 50%;\n",
              "      cursor: pointer;\n",
              "      display: none;\n",
              "      fill: #1967D2;\n",
              "      height: 32px;\n",
              "      padding: 0 0 0 0;\n",
              "      width: 32px;\n",
              "    }\n",
              "\n",
              "    .colab-df-convert:hover {\n",
              "      background-color: #E2EBFA;\n",
              "      box-shadow: 0px 1px 2px rgba(60, 64, 67, 0.3), 0px 1px 3px 1px rgba(60, 64, 67, 0.15);\n",
              "      fill: #174EA6;\n",
              "    }\n",
              "\n",
              "    [theme=dark] .colab-df-convert {\n",
              "      background-color: #3B4455;\n",
              "      fill: #D2E3FC;\n",
              "    }\n",
              "\n",
              "    [theme=dark] .colab-df-convert:hover {\n",
              "      background-color: #434B5C;\n",
              "      box-shadow: 0px 1px 3px 1px rgba(0, 0, 0, 0.15);\n",
              "      filter: drop-shadow(0px 1px 2px rgba(0, 0, 0, 0.3));\n",
              "      fill: #FFFFFF;\n",
              "    }\n",
              "  </style>\n",
              "\n",
              "      <script>\n",
              "        const buttonEl =\n",
              "          document.querySelector('#df-299aef0e-4bd6-4909-833f-17cab93b859e button.colab-df-convert');\n",
              "        buttonEl.style.display =\n",
              "          google.colab.kernel.accessAllowed ? 'block' : 'none';\n",
              "\n",
              "        async function convertToInteractive(key) {\n",
              "          const element = document.querySelector('#df-299aef0e-4bd6-4909-833f-17cab93b859e');\n",
              "          const dataTable =\n",
              "            await google.colab.kernel.invokeFunction('convertToInteractive',\n",
              "                                                     [key], {});\n",
              "          if (!dataTable) return;\n",
              "\n",
              "          const docLinkHtml = 'Like what you see? Visit the ' +\n",
              "            '<a target=\"_blank\" href=https://colab.research.google.com/notebooks/data_table.ipynb>data table notebook</a>'\n",
              "            + ' to learn more about interactive tables.';\n",
              "          element.innerHTML = '';\n",
              "          dataTable['output_type'] = 'display_data';\n",
              "          await google.colab.output.renderOutput(dataTable, element);\n",
              "          const docLink = document.createElement('div');\n",
              "          docLink.innerHTML = docLinkHtml;\n",
              "          element.appendChild(docLink);\n",
              "        }\n",
              "      </script>\n",
              "    </div>\n",
              "  </div>\n",
              "  "
            ]
          },
          "metadata": {},
          "execution_count": 12
        }
      ]
    },
    {
      "cell_type": "markdown",
      "source": [
        "##3.1. Теоретический материал – Работа с числовыми данными\n",
        "Количественные данные что-то измеряют – будь то размер класса, ежемесячные продажи или оценки учащихся. Естественным способом представления этих величин является численным (например, 150 студентов, $529 392 продаж).\n",
        "\n",
        "***Нормализация данных*** — это общепринятая задача предобработки в машинном обучении. Многие алгоритмы предполагают, что все признаки находятся в единой шкале, как правило, от 0 до 1 или от -1 до 1.\n",
        "\n",
        "Существует множество способов нормализации значений признаков, чтобы масштабировать их к единому диапазону и использовать в различных моделях машинного обучения. В зависимости от используемой функции, их можно разделить на 2 большие группы: линейные и нелинейные. При нелинейной нормализации в расчетных соотношениях используются функции логистической сигмоиды или гиперболического тангенса. В линейной нормализации изменение переменных осуществляется пропорционально, по линейному закону.\n",
        "\n",
        "На практике наиболее распространены следующие методы нормализации признаков:\n",
        "\n",
        "***Минимакс*** – линейное преобразование данных в диапазоне [0..1], где минимальное и максимальное масштабируемые значения соответствуют 0 и 1 соответственно;\n",
        "***Z-масштабирование*** данных на основе среднего значения и стандартного отклонения: производят деление разницы между переменной и средним значением на стандартное отклонение.\n",
        "\n",
        "![image.png](data:image/png;base64,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)\n",
        "\n",
        "При масштабировании данных мы будем использовать одну из популярных библиотек машинного обучения Scikit-learn. Библиотека содержит пакет sklearn.preprocessing, который предоставляет широкие возможности для нормализации данных. Следует отметить, что в целом алгоритмы обучения выигрывают от стандартизации набора данных."
      ],
      "metadata": {
        "id": "MNHTXQN9-eBz"
      }
    },
    {
      "cell_type": "markdown",
      "source": [
        "##3.2.1. Пример\n",
        "Прошкалируйте числовой признак в диапазон между двумя значениями"
      ],
      "metadata": {
        "id": "yizCOi0H_Few"
      }
    },
    {
      "cell_type": "code",
      "source": [
        "# Загрузить библиотеки\n",
        "import numpy as np\n",
        "from sklearn import preprocessing\n",
        "\n",
        "#Созать признак\n",
        "feature = np.array([[-500.5], [-100.1], [0], [100.1], [900.9]])\n",
        "# Созать шкалировщик\n",
        "minmax_scale = preprocessing.MinMaxScaler(feature_range = (0, 1))\n",
        "\n",
        "#Прошкалировать признак\n",
        "scaled_feature = minmax_scale.fit_transform(feature)\n",
        "\n",
        "#Показать прошкалированный признак\n",
        "scaled_feature"
      ],
      "metadata": {
        "colab": {
          "base_uri": "https://localhost:8080/"
        },
        "id": "iGeRftmk_JS1",
        "outputId": "924d4b63-3618-4aa0-9ecd-a999b11b65bc"
      },
      "execution_count": 14,
      "outputs": [
        {
          "output_type": "execute_result",
          "data": {
            "text/plain": [
              "array([[0.        ],\n",
              "       [0.28571429],\n",
              "       [0.35714286],\n",
              "       [0.42857143],\n",
              "       [1.        ]])"
            ]
          },
          "metadata": {},
          "execution_count": 14
        }
      ]
    },
    {
      "cell_type": "markdown",
      "source": [
        "##3.2.2. Пример\n",
        "Преобразуйте признак, чтобы он имел среднее значение 0 и стандартное\n",
        "отклонение 1."
      ],
      "metadata": {
        "id": "ok1PLEzB_P-l"
      }
    },
    {
      "cell_type": "code",
      "source": [
        "x = np.array([[-1000.1], [-200.2], [500.5], [600.6], [9000.9]])\n",
        "# Созать шкалировщик\n",
        "scaler = preprocessing.StandardScaler()\n",
        "# Преобразовать признак\n",
        "standardized = scaler.fit_transform(x)\n",
        "# Показать признак\n",
        "standardized"
      ],
      "metadata": {
        "colab": {
          "base_uri": "https://localhost:8080/"
        },
        "id": "FpIUcAI-_Chv",
        "outputId": "f3725de3-6d69-4b93-e59e-01a1dc1a3fd3"
      },
      "execution_count": 15,
      "outputs": [
        {
          "output_type": "execute_result",
          "data": {
            "text/plain": [
              "array([[-0.76058269],\n",
              "       [-0.54177196],\n",
              "       [-0.35009716],\n",
              "       [-0.32271504],\n",
              "       [ 1.97516685]])"
            ]
          },
          "metadata": {},
          "execution_count": 15
        }
      ]
    },
    {
      "cell_type": "markdown",
      "source": [
        "Мы можем увидеть эффект стандартизации, обратившись к среднему значению и стандартному отклонению результата нашего решения:"
      ],
      "metadata": {
        "id": "-YWWg1Gi_dBq"
      }
    },
    {
      "cell_type": "code",
      "source": [
        "print(\"Среднее:\", round(standardized.mean()))\n",
        "print(\"Стандартное отклонение:\", standardized.std())"
      ],
      "metadata": {
        "colab": {
          "base_uri": "https://localhost:8080/"
        },
        "id": "Vqlz3Fqw_e-9",
        "outputId": "9e71a2ce-219d-4c6b-a3aa-5f333b979dcb"
      },
      "execution_count": 16,
      "outputs": [
        {
          "output_type": "stream",
          "name": "stdout",
          "text": [
            "Среднее: 0\n",
            "Стандартное отклонение: 1.0\n"
          ]
        }
      ]
    },
    {
      "cell_type": "markdown",
      "source": [
        "##3.2.3. Пример\n",
        "Дан фрейм данных\n",
        "\n",
        "`dfTest = pd.DataFrame({'A':[14.00,90.20,90.95,96.27,91.21],`\n",
        "\n",
        " ` 'B':[103.02,107.26,110.35,114.23,114.68],`\n",
        "\n",
        " `'C':['big','small','big','small','small']})`\n",
        "\n",
        "Необходимо масштабировать его числовые столбцы."
      ],
      "metadata": {
        "id": "szFU4fZU_lI9"
      }
    },
    {
      "cell_type": "code",
      "source": [
        "import pandas as pd\n",
        "from sklearn.preprocessing import MinMaxScaler\n",
        "\n",
        "scaler = MinMaxScaler()\n",
        "dfTest = pd.DataFrame({'A':[14.00,90.20,90.95,96.27,91.21],\n",
        "                       'B':[103.02,107.26,110.35,114.23,114.68],\n",
        "                       'C':['big','small','big','small','small']})\n",
        "\n",
        "dfTest[['A', 'B']] = scaler.fit_transform(dfTest[['A', 'B']])\n",
        "dfTest"
      ],
      "metadata": {
        "colab": {
          "base_uri": "https://localhost:8080/",
          "height": 206
        },
        "id": "oaJQB95M_2oo",
        "outputId": "2b12923a-902f-453d-9a5d-07f6137fb68f"
      },
      "execution_count": 17,
      "outputs": [
        {
          "output_type": "execute_result",
          "data": {
            "text/plain": [
              "          A         B      C\n",
              "0  0.000000  0.000000    big\n",
              "1  0.926219  0.363636  small\n",
              "2  0.935335  0.628645    big\n",
              "3  1.000000  0.961407  small\n",
              "4  0.938495  1.000000  small"
            ],
            "text/html": [
              "\n",
              "  <div id=\"df-6cd1e29c-4037-4a88-a8b5-340445a22850\">\n",
              "    <div class=\"colab-df-container\">\n",
              "      <div>\n",
              "<style scoped>\n",
              "    .dataframe tbody tr th:only-of-type {\n",
              "        vertical-align: middle;\n",
              "    }\n",
              "\n",
              "    .dataframe tbody tr th {\n",
              "        vertical-align: top;\n",
              "    }\n",
              "\n",
              "    .dataframe thead th {\n",
              "        text-align: right;\n",
              "    }\n",
              "</style>\n",
              "<table border=\"1\" class=\"dataframe\">\n",
              "  <thead>\n",
              "    <tr style=\"text-align: right;\">\n",
              "      <th></th>\n",
              "      <th>A</th>\n",
              "      <th>B</th>\n",
              "      <th>C</th>\n",
              "    </tr>\n",
              "  </thead>\n",
              "  <tbody>\n",
              "    <tr>\n",
              "      <th>0</th>\n",
              "      <td>0.000000</td>\n",
              "      <td>0.000000</td>\n",
              "      <td>big</td>\n",
              "    </tr>\n",
              "    <tr>\n",
              "      <th>1</th>\n",
              "      <td>0.926219</td>\n",
              "      <td>0.363636</td>\n",
              "      <td>small</td>\n",
              "    </tr>\n",
              "    <tr>\n",
              "      <th>2</th>\n",
              "      <td>0.935335</td>\n",
              "      <td>0.628645</td>\n",
              "      <td>big</td>\n",
              "    </tr>\n",
              "    <tr>\n",
              "      <th>3</th>\n",
              "      <td>1.000000</td>\n",
              "      <td>0.961407</td>\n",
              "      <td>small</td>\n",
              "    </tr>\n",
              "    <tr>\n",
              "      <th>4</th>\n",
              "      <td>0.938495</td>\n",
              "      <td>1.000000</td>\n",
              "      <td>small</td>\n",
              "    </tr>\n",
              "  </tbody>\n",
              "</table>\n",
              "</div>\n",
              "      <button class=\"colab-df-convert\" onclick=\"convertToInteractive('df-6cd1e29c-4037-4a88-a8b5-340445a22850')\"\n",
              "              title=\"Convert this dataframe to an interactive table.\"\n",
              "              style=\"display:none;\">\n",
              "        \n",
              "  <svg xmlns=\"http://www.w3.org/2000/svg\" height=\"24px\"viewBox=\"0 0 24 24\"\n",
              "       width=\"24px\">\n",
              "    <path d=\"M0 0h24v24H0V0z\" fill=\"none\"/>\n",
              "    <path d=\"M18.56 5.44l.94 2.06.94-2.06 2.06-.94-2.06-.94-.94-2.06-.94 2.06-2.06.94zm-11 1L8.5 8.5l.94-2.06 2.06-.94-2.06-.94L8.5 2.5l-.94 2.06-2.06.94zm10 10l.94 2.06.94-2.06 2.06-.94-2.06-.94-.94-2.06-.94 2.06-2.06.94z\"/><path d=\"M17.41 7.96l-1.37-1.37c-.4-.4-.92-.59-1.43-.59-.52 0-1.04.2-1.43.59L10.3 9.45l-7.72 7.72c-.78.78-.78 2.05 0 2.83L4 21.41c.39.39.9.59 1.41.59.51 0 1.02-.2 1.41-.59l7.78-7.78 2.81-2.81c.8-.78.8-2.07 0-2.86zM5.41 20L4 18.59l7.72-7.72 1.47 1.35L5.41 20z\"/>\n",
              "  </svg>\n",
              "      </button>\n",
              "      \n",
              "  <style>\n",
              "    .colab-df-container {\n",
              "      display:flex;\n",
              "      flex-wrap:wrap;\n",
              "      gap: 12px;\n",
              "    }\n",
              "\n",
              "    .colab-df-convert {\n",
              "      background-color: #E8F0FE;\n",
              "      border: none;\n",
              "      border-radius: 50%;\n",
              "      cursor: pointer;\n",
              "      display: none;\n",
              "      fill: #1967D2;\n",
              "      height: 32px;\n",
              "      padding: 0 0 0 0;\n",
              "      width: 32px;\n",
              "    }\n",
              "\n",
              "    .colab-df-convert:hover {\n",
              "      background-color: #E2EBFA;\n",
              "      box-shadow: 0px 1px 2px rgba(60, 64, 67, 0.3), 0px 1px 3px 1px rgba(60, 64, 67, 0.15);\n",
              "      fill: #174EA6;\n",
              "    }\n",
              "\n",
              "    [theme=dark] .colab-df-convert {\n",
              "      background-color: #3B4455;\n",
              "      fill: #D2E3FC;\n",
              "    }\n",
              "\n",
              "    [theme=dark] .colab-df-convert:hover {\n",
              "      background-color: #434B5C;\n",
              "      box-shadow: 0px 1px 3px 1px rgba(0, 0, 0, 0.15);\n",
              "      filter: drop-shadow(0px 1px 2px rgba(0, 0, 0, 0.3));\n",
              "      fill: #FFFFFF;\n",
              "    }\n",
              "  </style>\n",
              "\n",
              "      <script>\n",
              "        const buttonEl =\n",
              "          document.querySelector('#df-6cd1e29c-4037-4a88-a8b5-340445a22850 button.colab-df-convert');\n",
              "        buttonEl.style.display =\n",
              "          google.colab.kernel.accessAllowed ? 'block' : 'none';\n",
              "\n",
              "        async function convertToInteractive(key) {\n",
              "          const element = document.querySelector('#df-6cd1e29c-4037-4a88-a8b5-340445a22850');\n",
              "          const dataTable =\n",
              "            await google.colab.kernel.invokeFunction('convertToInteractive',\n",
              "                                                     [key], {});\n",
              "          if (!dataTable) return;\n",
              "\n",
              "          const docLinkHtml = 'Like what you see? Visit the ' +\n",
              "            '<a target=\"_blank\" href=https://colab.research.google.com/notebooks/data_table.ipynb>data table notebook</a>'\n",
              "            + ' to learn more about interactive tables.';\n",
              "          element.innerHTML = '';\n",
              "          dataTable['output_type'] = 'display_data';\n",
              "          await google.colab.output.renderOutput(dataTable, element);\n",
              "          const docLink = document.createElement('div');\n",
              "          docLink.innerHTML = docLinkHtml;\n",
              "          element.appendChild(docLink);\n",
              "        }\n",
              "      </script>\n",
              "    </div>\n",
              "  </div>\n",
              "  "
            ]
          },
          "metadata": {},
          "execution_count": 17
        }
      ]
    },
    {
      "cell_type": "markdown",
      "source": [
        "##3.3.2 Задание\n",
        "Загрузить фрейм данных по ссылке:\n",
        "https://raw.githubusercontent.com/akmand/datasets/master/iris.csv.\n",
        "Необходимо выполнить нормализацию первого числового признака\n",
        "(sepal_length_cm) с использованием минимаксного преобразования, а\n",
        "второго (sepal_width_cm) с задействованием z-масштабирования."
      ],
      "metadata": {
        "id": "UmPTqoiiARbu"
      }
    },
    {
      "cell_type": "code",
      "source": [
        "import pandas as pd\n",
        "from sklearn.preprocessing import MinMaxScaler\n",
        "\n",
        "scaler = MinMaxScaler()\n",
        "\n",
        "url = 'https://raw.githubusercontent.com/akmand/datasets/master/iris.csv'\n",
        "dataframe = pd.read_csv(b)\n",
        "\n",
        "print(dataframe.head(5))"
      ],
      "metadata": {
        "colab": {
          "base_uri": "https://localhost:8080/"
        },
        "id": "nSyOek4cBT-5",
        "outputId": "dc7e9800-b149-4ecd-b3ce-537d1ab6c9e1"
      },
      "execution_count": 19,
      "outputs": [
        {
          "output_type": "stream",
          "name": "stdout",
          "text": [
            "   sepal_length_cm  sepal_width_cm  petal_length_cm  petal_width_cm species\n",
            "0              5.1             3.5              1.4             0.2  setosa\n",
            "1              4.9             3.0              1.4             0.2  setosa\n",
            "2              4.7             3.2              1.3             0.2  setosa\n",
            "3              4.6             3.1              1.5             0.2  setosa\n",
            "4              5.0             3.6              1.4             0.2  setosa\n"
          ]
        }
      ]
    }
  ]
}